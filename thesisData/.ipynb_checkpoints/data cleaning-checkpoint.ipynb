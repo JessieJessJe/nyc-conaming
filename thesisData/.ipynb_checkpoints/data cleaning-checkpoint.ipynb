{
 "cells": [
  {
   "cell_type": "code",
   "execution_count": 45,
   "metadata": {},
   "outputs": [
    {
     "data": {
      "text/plain": [
       "56"
      ]
     },
     "execution_count": 45,
     "metadata": {},
     "output_type": "execute_result"
    }
   ],
   "source": [
    "## fetching locations\n",
    "##filename = 'files/2002-2-loc.docx'\n",
    "\n",
    "filename = 'files/2011_loc.docx'\n",
    "\n",
    "from docx2python import docx2python\n",
    "\n",
    "# extract docx content\n",
    "doc = docx2python(filename)\n",
    "doc.body[1][1][1]\n",
    "# lines = [x for x in doc.body[0][0][0] if x != '']\n",
    "\n",
    "\n",
    "i = 1\n",
    "loclist = []\n",
    "while i in range(len(doc.body)):\n",
    "    \n",
    "    if 'Between' in doc.body[i][1][2][0]:\n",
    "        loc = getBtLocation(doc.body[i][1][2][0],doc.body[i][1][1][0])\n",
    "        \n",
    "    else:\n",
    "        loc = getLocation(doc.body[i][1][2][0])\n",
    "        \n",
    "    i += 2\n",
    "    loclist.append(loc)\n",
    "    \n",
    "len(loclist)\n",
    "    \n",
    "\n",
    "# 2002-2\n",
    "#     if 'The following' in x:\n",
    "#         n, loc = getLocation(lines[i+2])\n",
    "#         loclist.append(loc)\n",
    "        \n",
    "#         if loc == 'None':\n",
    "#             print(n,i)\n",
    "        \n",
    "#     i+=1"
   ]
  },
  {
   "cell_type": "code",
   "execution_count": 41,
   "metadata": {},
   "outputs": [],
   "source": [
    "def getBtLocation(t,p):\n",
    "    return p + ' and ' + t.split('and',1)[1].strip()\n",
    "\n",
    "def getLocation(t):\n",
    "    if 'of' in  t:\n",
    "        return t.split('of',1)[1].strip()\n",
    "    else:\n",
    "        return t"
   ]
  },
  {
   "cell_type": "code",
   "execution_count": 210,
   "metadata": {},
   "outputs": [
    {
     "data": {
      "text/plain": [
       "['Freeborn Street and Lincoln Avenue',\n",
       " '74th  Street',\n",
       " '84th Place',\n",
       " '79th Place',\n",
       " '69th Lane',\n",
       " '81st Street',\n",
       " 'Third Avenue',\n",
       " 'East 234th',\n",
       " 'Fillmore Avenue and Avenue T',\n",
       " 'Batchelder',\n",
       " 'Hartford Avenue and Matthews Avenue',\n",
       " '74th Street',\n",
       " 'Jordan Street',\n",
       " 'Bay 8th Street',\n",
       " '34th Avenue',\n",
       " '52nd Street',\n",
       " 'Prol Place',\n",
       " 'Rathburn Avenue',\n",
       " 'Sharrotts Road',\n",
       " 'Laredo Avenue',\n",
       " 'Kramer Avenue',\n",
       " 'Wood Avenue',\n",
       " 'Richmond Avenue',\n",
       " 'Winchester ',\n",
       " 'Katan Avenue',\n",
       " 'North Pine Terrace',\n",
       " 'Boulder Street',\n",
       " 'Seidman Avenue',\n",
       " 'Stecher Street',\n",
       " 'Justin Avenue',\n",
       " 'Lyle Court',\n",
       " 'Bennett Avenue',\n",
       " 'Salamander',\n",
       " 'Detroit Avenue',\n",
       " 'Gladwin Street',\n",
       " 'Buffalo Street',\n",
       " 'Rustic Place',\n",
       " 'Shepard Avenue',\n",
       " 'Forest Street',\n",
       " 'Shale Street',\n",
       " 'McClean Avenue',\n",
       " 'Windermere',\n",
       " 'Collfield Avenue',\n",
       " 'Slater Boulevard',\n",
       " 'Seaver Avenue',\n",
       " 'Gower Street',\n",
       " 'North Railroad',\n",
       " 'Piave Avenue',\n",
       " 'Oldfield Street',\n",
       " 'Morrison Avenue and North Burgher Avenue',\n",
       " 'Jewett Avenue and Waters Avenue',\n",
       " 'Bosworth and Bement AvenueNew York Avenue and Montgomery Street',\n",
       " '14th Street',\n",
       " 'Purcell Street and Clove Road',\n",
       " '78th Street',\n",
       " 'Woodhaven ',\n",
       " '69th Road',\n",
       " '77th Place',\n",
       " 'Johnson Avenue',\n",
       " 'Bay 44th Street',\n",
       " '149th Street',\n",
       " 'Sloan Street',\n",
       " 'Jansen Street',\n",
       " '133rd Avenue',\n",
       " 'West Street',\n",
       " 'Wales Avenue',\n",
       " '16th Street',\n",
       " 'Jewett Avenue and Victory Boulevard',\n",
       " 'Rensselaer',\n",
       " '27th Avenue and Bayside Lane',\n",
       " 'Eliot Avenue',\n",
       " 'Cary Avenue and Bement Avenue',\n",
       " 'Francis Lewis',\n",
       " 'Maryland Avenue and Foxhill Terrace',\n",
       " 'Martin Avenue and Victory Boulevard',\n",
       " 'Ingram Avenue and Victory Boulevard',\n",
       " 'Sanford Place and Slosson Avenue',\n",
       " '79th Street   ',\n",
       " 'Martling Avenue and Slosson Avenue',\n",
       " 'Freeborn Street and Lincoln Avenue',\n",
       " '66th Place']"
      ]
     },
     "execution_count": 210,
     "metadata": {},
     "output_type": "execute_result"
    }
   ],
   "source": [
    "#2002-2\n",
    "loclistNone = ['Freeborn Street and Lincoln Avenue',\n",
    "               'Fillmore Avenue and Avenue T',\n",
    "               'Hartford Avenue and Matthews Avenue',\n",
    "               'Morrison Avenue and North Burgher Avenue',\n",
    "               'Jewett Avenue and Waters Avenue',\n",
    "               'Bosworth and Bement Avenue'\n",
    "               'New York Avenue and Montgomery Street',\n",
    "               'Purcell Street and Clove Road',\n",
    "               'Jewett Avenue and Victory Boulevard',\n",
    "               '27th Avenue and Bayside Lane',\n",
    "               'Cary Avenue and Bement Avenue',\n",
    "               'Maryland Avenue and Foxhill Terrace',\n",
    "               'Martin Avenue and Victory Boulevard',\n",
    "               'Ingram Avenue and Victory Boulevard',\n",
    "               'Sanford Place and Slosson Avenue',\n",
    "               'Martling Avenue and Slosson Avenue'\n",
    "              ]\n",
    "i = 0\n",
    "j = 0\n",
    "for x in loclist:\n",
    "    if x == 'None':\n",
    "        loclist[j] = loclistNone[i]\n",
    "        i += 1\n",
    "    j += 1\n",
    "\n",
    "loclist    "
   ]
  },
  {
   "cell_type": "code",
   "execution_count": 199,
   "metadata": {},
   "outputs": [],
   "source": [
    "def getLocation(x):\n",
    "    x = x.split('\\t')\n",
    "    y = [y for y in x if y!='']\n",
    "    return y[0], y[1]"
   ]
  },
  {
   "cell_type": "code",
   "execution_count": null,
   "metadata": {},
   "outputs": [],
   "source": []
  },
  {
   "cell_type": "code",
   "execution_count": 70,
   "metadata": {},
   "outputs": [],
   "source": [
    "def getBorough(long):  \n",
    "    if 'Queens' in long:\n",
    "        return 'Queens'\n",
    "    elif 'Brooklyn' in long:\n",
    "        return 'Brooklyn'\n",
    "    elif 'Manhattan' in long:\n",
    "        return 'Manhattan'\n",
    "    elif 'Bronx' in long:\n",
    "        return 'Bronx'\n",
    "    elif 'Staten Island' in long:\n",
    "        return 'Staten Island'\n",
    "\n",
    "def getIntersect(long):    \n",
    "    long = long.replace('\\n', ' ').replace('\\r', '').replace('   ', ' ')\n",
    "    if 'Between' in long:\n",
    "        long = long.split('Between')[1].strip()\n",
    "    elif 'of' in long:\n",
    "        long = long.split('of',1)[1].strip()\n",
    "    else:\n",
    "        long = '10 Montieth Street'\n",
    "        \n",
    "    return long\n",
    "\n",
    "def mergeLoc(borough,street):\n",
    "    return street+', '+borough+', NY'\n"
   ]
  },
  {
   "cell_type": "code",
   "execution_count": 1,
   "metadata": {},
   "outputs": [],
   "source": [
    "def checkSplit(raw):\n",
    "    i = 0\n",
    "    for x in raw:\n",
    "        if (i%2 == 1):\n",
    "            print(x, i)\n",
    "        i += 1"
   ]
  },
  {
   "cell_type": "markdown",
   "metadata": {},
   "source": [
    "JSON file except for GEO Code, year, group"
   ]
  },
  {
   "cell_type": "code",
   "execution_count": 129,
   "metadata": {},
   "outputs": [
    {
     "name": "stdout",
     "output_type": "stream",
     "text": [
      "56\n"
     ]
    }
   ],
   "source": [
    "print(len(reason))"
   ]
  },
  {
   "cell_type": "code",
   "execution_count": 130,
   "metadata": {},
   "outputs": [],
   "source": [
    "# 2011 56 streets\n",
    "\n",
    "raw = \"Police Officer Kenneth Mahon Place, Borough of the Bronx, Richard Akbar Salahuddin Drive, Borough of Brooklyn, Harry Wieder Way, Borough of Manhattan, University Settlement, Borough of Manhattan, Jack Johnson Plaza, Borough of Manhattan, Ramona Jennett Way, Borough of Manhattan, Richard Cecere Corner, Borough of Queens, 35T1H4 A1V4E1N1U1E1, Borough of Queens, Lawrence P. Dorsey Way, Borough of Brooklyn, Pietro Cesare Alberti Way, Borough of Queens, SFC Luis M. Gonzalez Street, Borough of Queens, Police Officer Vito S. Mauro – 9/11 Memorial Way, Borough of Brooklyn, Dr. Giacomo J. Buscaino Place, Borough of Brooklyn, Andrew DiOrio Boulevard, Borough of Brooklyn, Red Hook Heroes Run, Borough of Brooklyn, Abe Kanter Way, Borough of Brooklyn, Rabbi Zvi Florence Way, Borough of Brooklyn, George J. Regan Street, Borough of Queens, Dominick Berardi Way, Borough of Queens, Crossing Guard Susan Healy Way, Borough of Staten Island, Dorothy Maynor Place, Borough of Manhattan, Ricardo A. Perez Place, Borough of Manhattan, Macedonia A.M.E. Church Way, Borough of Queens, Dr. Theodore Kazimiroff Way, Borough of the Bronx, Geraldine Ferraro Way, Borough of Queens, Citizens of Mola di Bari Way, Borough of Brooklyn, LCpl. Julian T. Brennan USMC Way, Borough of Brooklyn, Willie McDonald Way, Borough of Brooklyn, Blessed John Paul II Square, Borough of Brooklyn, Naiesha (Nana) Pearson Place, Borough of Manhattan, Young Lords Way, Borough of Manhattan, Odessa Steward Street, Borough of Manhattan, Philip Reed Way, Borough of Manhattan, Museum Mile, Borough of Manhattan, Detective Omar J. Edwards Way, Borough of Manhattan, Ellen Stewart Way, Borough of Manhattan, Fran Kaplan Way, Borough of Brooklyn, Stephen J. Solarz Way, Borough of Brooklyn, Amanda Sue Forsyth Gift of Life Way, Borough of Staten Island, Deborah L. Macula Way, Borough of Staten Island, Mother Franciska Way, Borough of Staten Island, Anthony Neglia Way, Borough of Brooklyn, Zachary Sansone Way, Borough of Brooklyn, Dr. Betty Shabazz Way, Borough of Manhattan, Daniel P. Rieu Way, Borough of Staten Island, D.A. Bill Murphy Way, Borough of Staten Island, Lizzie Ruth Brown Way, Borough of Queens, Jack King Way, Borough of Queens, Ann Buehler Way, Borough of Queens, Winged Fist Way, Borough of Queens, Moses P. Cobb Way, Borough of Brooklyn, Charles C. Pinn Way, Borough of Brooklyn, Thomas White Jr. Blvd., Borough of Queens, Henry Grate Sr. Place, Borough of Queens, Monsignor Paul M. Andrews Way, Borough of Staten Island, Frank Justich Way, Borough of Queens\"\n",
    "raw = raw.split(',')\n",
    "raw = [x.strip() for x in raw]\n",
    "\n",
    "i = 0\n",
    "j = 0\n",
    "\n",
    "json_2011_0 = []\n",
    "name = ''\n",
    "borough = ''\n",
    "\n",
    "for x in raw:\n",
    "    if (i%2 == 0):\n",
    "        name = x.strip()\n",
    "    else:\n",
    "        borough = getBorough(x)\n",
    "            \n",
    "        entry = {\n",
    "            \"coname\":name,\n",
    "            \"borough\":borough,\n",
    "            \"location\":mergeLoc(borough,loclist[j]),\n",
    "            \"reason\": reason[j]\n",
    "        }\n",
    "        json_2011_0.append(entry)\n",
    "        j += 1\n",
    "        name = ''\n",
    "        borough = ''\n",
    "    i += 1\n"
   ]
  },
  {
   "cell_type": "code",
   "execution_count": 131,
   "metadata": {},
   "outputs": [
    {
     "data": {
      "text/plain": [
       "{'coname': 'Jack Johnson Plaza',\n",
       " 'borough': 'Manhattan',\n",
       " 'location': 'Lenox Avenue and 142nd Street, Manhattan, NY',\n",
       " 'reason': 'Jack Johnson was an American boxer, the second African-American boxing champion and the first African-American world heavyweight boxing champion. He was inducted into the Ring Boxing Hall of Fame in 1954 and the International Boxing Hall of Fame in 1990. He was also known for being the first celebrity athlete appearing regularly in the press, radio, and movies. He was also a connoisseur of Harlem night life and opened his own club called Club Deluxe at 142nd Street and Lenox Avenue.  In 1910, Congress passed the Act of June 25, 1910 known as the “White Slave Traffic Act or the Mann Act” which outlawed the transportation of women in interstate or foreign commerce for the purpose of prostitution or debauchery or for any other immoral purpose.'}"
      ]
     },
     "execution_count": 131,
     "metadata": {},
     "output_type": "execute_result"
    }
   ],
   "source": [
    "json_2011_0[4]"
   ]
  },
  {
   "cell_type": "code",
   "execution_count": 219,
   "metadata": {},
   "outputs": [],
   "source": [
    "# 2002-2 81 streets(in honor of 911 heroes)\n",
    "raw_2002 = \"Martin J. Egan. Jr. Corner, Borough of Staten Island, Lt. Steven J. Bates Street, Borough of Queens, Lt. Michael P. Warchola Way, Borough of Queens, Lt. Kevin Pfeifer Place, Borough of Queens, Lieutenant Kenneth J. Phelan Way, Borough of Queens, Firefighter Vincent S. Morello Street, Borough of Queens, Firefighters Boulevard, Borough of The Bronx, Deputy Chief Orio J. Palmer Way, Borough of The Bronx, Firefighter Gregory Saucedo Triangle, Borough of Brooklyn, Jimmy Quinn Way, Borough of Brooklyn, Jason DeFazio Way, Borough of Staten Island, P.O. Moira Smith Way, Borough of Brooklyn, Michael D. Mullan Way, Borough of Queens, Firefighter Jimmy Riches Way, Borough of Brooklyn, AnnMarie Riccoboni Way, Borough of Queens, Lawrence Virgilio Street, Borough of Queens, Firefighter Salvatore Calabro Place, Borough of Staten Island, Donald DiFranco Way, Borough of Staten Island, Debra Ann DiMartino Way, Borough of Staten Island, Joseph Di Pilato Place, Borough of Staten Island, Steven M. Hagis Way, Borough of Staten Island, Michele B. Lanza Way, Borough of Staten Island, Lorraine Lee Way, Borough of Staten Island, Michael Massaroli Way, Borough of Staten Island, Charles A. Mauro Jr. Place, Borough of Staten Island, Lt. Paul T. Mitchell Place, Borough of Staten Island, Salvatore T. Papasso Way, Borough of Staten Island, Cira Marie Patti Way, Borough of Staten Island, Mark Petrocelli Way, Borough of Staten Island, Joseph Plumitallo Way, Borough of Staten Island, Patricia Puma Way, Borough of Staten Island, Peter Raimondi Way, Borough of Staten Island, Joseph Reina Jr. Way, Borough of Staten Island, Adele Sessa Way, Borough of Staten Island, Michael Stabile Way, Borough of Staten Island, Firefighter John P. Tierney Place, Borough of Staten Island, Joseph G. Visciano Place, Borough of Staten Island, Frank Thomas “F.T.” Aquilino Way, Borough of Staten Island, Adam P. Arias Way, Borough of Staten Island, Louis F. Aversano Jr. Way, Borough of Staten Island, Michael E. Beekman Way, Borough of Staten Island, Firefighter Greg J. Buck Place, Borough of Staten Island,  Milton Gilberto Bustillo Way, Borough of Staten Island, Monica Goldstein Way, Borough of Staten Island, Vincent Laieta Jr. Way, Borough of Staten Island, Jeannine LaVerde Way, Borough of Staten Island, Stephanie McKenna Way, Borough of Staten Island, Richard Miuccio Way, Borough of Staten Island, Lt. Philip S. Petti Place, Borough of Staten Island, Shawn E. Bowman Jr. Way, Borough of Staten Island, Firefighter Thomas P. Hannafin Place, Borough of Staten Island, Robert J. Shay Jr. Way, Borough of Staten Island, Firefighter Manuel Del Valle Jr. Street, Borough of Manhattan, Benjamin Keefe Clark Way, Borough of Brooklyn, Firefighter John Heffernan Street, Borough of Queens, Firefighter Scott A. Larsen Boulevard, Borough of Queens, Capt. Patrick Waters Road, Borough of Queens, Firefighter John J. Florio Place, Borough of Queens, Firefighter Daniel T. Suhr Place, Borough of Brooklyn, Firefighter Joseph Patrick Henry Lane, Borough of Brooklyn,  Firefighter Sergio Gabriel Villanueva Way, Borough of Queens, Calvin Gooding Jr. Place, Borough of Queens, Firefighter Michael Cammarata Place, Borough of Staten Island, Firefighter William Henry Avenue, Borough of Queens, Detective Claude “Danny” Richards Way, Borough of Manhattan, Firefighter Angel Luis Juarbe Jr. Avenue, Borough of The Bronx, Captain Vincent E. Brunton Way, Borough of  Brooklyn, Lt. Joseph Gullickson Way, Borough of Staten Island, Carl A. DeFranco Avenue, Borough of Staten Island, Brian Nunez Way, Borough of Staten Island, Firefighter Michael Weinberg Way, Borough of Queens, William M. Feehan Triangle, Borough of Queens, Captain James J. Corrigan Way, Borough of Queens, Anne Marie Martino-Cramer Way, Borough of Staten Island, Kristen L. Montanaro Way, Borough of Staten Island, Firefighter Lenny Ragaglia Way, Borough of Staten Island, Lt. Chuck Margiotta Way, Borough of Staten Island, Michael A. Marti Street, Borough of Queens, Lt. Michael T. Quilty Way, Borough of Staten Island, Assistant Chief Gerard A. Barbara Way, Borough of Staten Island, E.M.T. David Marc Sullins Place, Borough of Queens\"\n",
    "raw_2002 = raw_2002.split(',')\n",
    "raw_2002 = [x.strip() for x in raw_2002]\n",
    "cc = \"911 heroes\"\n",
    "\n",
    "i = 0\n",
    "j = 0\n",
    "\n",
    "json_2002_0 = []\n",
    "name = ''\n",
    "borough = ''\n",
    "\n",
    "for x in raw_2002:\n",
    "    if (i%2 == 0):\n",
    "        name = x.strip()\n",
    "    else:\n",
    "        borough = getBorough(x)\n",
    "            \n",
    "        entry = {\n",
    "            \"coname\":name,\n",
    "            \"borough\":borough,\n",
    "            \"location\":mergeLoc(borough,loclist[j]),\n",
    "            \"content\": cc\n",
    "        }\n",
    "        json_2002_0.append(entry)\n",
    "        j += 1\n",
    "        name = ''\n",
    "        borough = ''\n",
    "    i += 1"
   ]
  },
  {
   "cell_type": "code",
   "execution_count": null,
   "metadata": {},
   "outputs": [],
   "source": [
    "# 2002-2 --------------------\n",
    "\n"
   ]
  },
  {
   "cell_type": "code",
   "execution_count": 163,
   "metadata": {},
   "outputs": [
    {
     "name": "stdout",
     "output_type": "stream",
     "text": [
      "Martin J. Egan. Jr. Corner\n",
      "Staten Island\n",
      "Lt. Steven J. Bates Street\n",
      "Queens\n",
      "Lt. Michael P. Warchola Way\n",
      "Queens\n",
      "Lt. Kevin Pfeifer Place\n",
      "Queens\n",
      "Lieutenant Kenneth J. Phelan Way\n",
      "Queens\n",
      "Firefighter Vincent S. Morello Street\n",
      "Queens\n",
      "Firefighters Boulevard\n",
      "Bronx\n",
      "Deputy Chief Orio J. Palmer Way\n",
      "Bronx\n",
      "Firefighter Gregory Saucedo Triangle\n",
      "Brooklyn\n",
      "Jimmy Quinn Way\n",
      "Brooklyn\n",
      "Jason DeFazio Way\n",
      "Staten Island\n",
      "P.O. Moira Smith Way\n",
      "Brooklyn\n",
      "Michael D. Mullan Way\n",
      "Queens\n",
      "Firefighter Jimmy Riches Way\n",
      "Brooklyn\n"
     ]
    },
    {
     "ename": "IndexError",
     "evalue": "list index out of range",
     "output_type": "error",
     "traceback": [
      "\u001b[0;31m---------------------------------------------------------------------------\u001b[0m",
      "\u001b[0;31mIndexError\u001b[0m                                Traceback (most recent call last)",
      "\u001b[0;32m<ipython-input-163-f772212abcc9>\u001b[0m in \u001b[0;36m<module>\u001b[0;34m\u001b[0m\n\u001b[1;32m     37\u001b[0m             \u001b[0;34m\"coname\"\u001b[0m\u001b[0;34m:\u001b[0m\u001b[0mname\u001b[0m\u001b[0;34m,\u001b[0m\u001b[0;34m\u001b[0m\u001b[0;34m\u001b[0m\u001b[0m\n\u001b[1;32m     38\u001b[0m             \u001b[0;34m\"borough\"\u001b[0m\u001b[0;34m:\u001b[0m\u001b[0mborough\u001b[0m\u001b[0;34m,\u001b[0m\u001b[0;34m\u001b[0m\u001b[0;34m\u001b[0m\u001b[0m\n\u001b[0;32m---> 39\u001b[0;31m             \u001b[0;34m\"loc\"\u001b[0m\u001b[0;34m:\u001b[0m\u001b[0mlocation\u001b[0m\u001b[0;34m[\u001b[0m\u001b[0mj\u001b[0m\u001b[0;34m]\u001b[0m\u001b[0;34m\u001b[0m\u001b[0;34m\u001b[0m\u001b[0m\n\u001b[0m\u001b[1;32m     40\u001b[0m         }\n\u001b[1;32m     41\u001b[0m         \u001b[0mnamejson\u001b[0m\u001b[0;34m.\u001b[0m\u001b[0mappend\u001b[0m\u001b[0;34m(\u001b[0m\u001b[0mentry\u001b[0m\u001b[0;34m)\u001b[0m\u001b[0;34m\u001b[0m\u001b[0;34m\u001b[0m\u001b[0m\n",
      "\u001b[0;31mIndexError\u001b[0m: list index out of range"
     ]
    }
   ],
   "source": [
    "# 2002-1 13 streets\n",
    "\n",
    "raw = \"Martin J. Egan. Jr. Corner, Borough of Staten Island, Lt. Steven J. Bates Street, Borough of Queens, Lt. Michael P. Warchola Way, Borough of Queens, Lt. Kevin Pfeifer Place, Borough of Queens, Lieutenant Kenneth J. Phelan Way, Borough of Queens, Firefighter Vincent S. Morello Street, Borough of Queens, Firefighters Boulevard, Borough of The Bronx, Deputy Chief Orio J. Palmer Way, Borough of The Bronx, Firefighter Gregory Saucedo Triangle, Borough of Brooklyn, Jimmy Quinn Way, Borough of Brooklyn, Jason DeFazio Way, Borough of Staten Island, P.O. Moira Smith Way, Borough of Brooklyn, Michael D. Mullan Way, Borough of Queens, Firefighter Jimmy Riches Way, Borough of Brooklyn, AnnMarie Riccoboni Way, Borough of Queens, Lawrence Virgilio Street, Borough of Queens, Firefighter Salvatore Calabro Place, Borough of Staten Island, Donald DiFranco Way, Borough of Staten Island, Debra Ann DiMartino Way, Borough of Staten Island, Joseph Di Pilato Place, Borough of Staten Island, Steven M. Hagis Way, Borough of Staten Island, Michele B. Lanza Way, Borough of Staten Island, Lorraine Lee Way, Borough of Staten Island, Michael Massaroli Way, Borough of Staten Island, Charles A. Mauro. Jr. Place, Borough of Staten Island, Lt. Paul T. Mitchell Place, Borough of Staten Island, Salvatore T. Papasso Way, Borough of Staten Island, Cira Marie Patti Way, Borough of Staten Island, Mark Petrocelli Way, Borough of Staten Island, Joseph Plumitallo Way, Borough of Staten Island, Patricia Puma Way, Borough of Staten Island, Peter Raimondi Way, Borough of Staten Island, Joseph Reina Jr. Way, Borough of Staten Island, Adele Sessa Way, Borough of Staten Island, Michael Stabile Way, Borough of Staten Island, Firefighter John P. Tierney Place, Borough of Staten Island, Joseph G. Visciano Place, Borough of Staten Island, Frank Thomas “F.T.” Aquilino Way, Borough of Staten Island, Adam P. Arias Way, Borough of Staten Island, Louis F. Aversano Jr. Way, Borough of Staten Island, Michael E. Beekman Way, Borough of Staten Island, Firefighter Greg J. Buck Place, Borough of Staten Island,  Milton Gilberto Bustillo Way, Borough of Staten Island, Monica Goldstein Way, Borough of Staten Island, Vincent Laieta Jr. Way, Borough of Staten Island, Jeannine LaVerde Way, Borough of Staten Island, Stephanie McKenna Way, Borough of Staten Island, Richard Miuccio Way, Borough of Staten Island, Lt. Philip S. Petti Place, Borough of Staten Island, Shawn E. Bowman Jr. Way, Borough of Staten Island, Firefighter Thomas P. Hannafin Place, Borough of Staten Island, Robert J. Shay Jr. Way, Borough of Staten Island, Firefighter Manuel Del Valle, Jr., Street, Borough of Manhattan, Benjamin Keefe Clark Way, Borough of Brooklyn, Firefighter John Heffernan Street, Borough of Queens, Firefighter Scott A. Larsen Boulevard, Borough of Queens, Capt. Patrick Waters Road, Borough of Queens, Firefighter John J. Florio Place, Borough of Queens, Firefighter Daniel T. Suhr Place, Borough of Brooklyn, Firefighter Joseph Patrick Henry Lane, Borough of Brooklyn,  Firefighter Sergio Gabriel Villanueva Way, Borough of Queens, Calvin Gooding Jr. Place, Borough of Queens, Firefighter Michael Cammarata Place, Borough of Staten Island, Firefighter William Henry Avenue, Borough of Queens, Detective Claude “Danny” Richards Way, Borough of Manhattan, Firefighter Angel Luis Juarbe Jr. Avenue, Borough of The Bronx, Captain Vincent E. Brunton Way, Borough of  Brooklyn, Lt. Joseph Gullickson Way, Borough of Staten Island, Carl A. DeFranco Avenue, Borough of Staten Island, Brian Nunez Way, Borough of Staten Island, Firefighter Michael Weinberg Way, Borough of Queens, William M. Feehan Triangle, Borough of Queens, Captain James J. Corrigan Way, Borough of Queens, Anne Marie Martino-Cramer Way, Borough of Staten Island, Kristen L. Montanaro Way, Borough of Staten Island, Firefighter Lenny Ragaglia Way, Borough of Staten Island, Lt. Chuck Margiotta Way, Borough of Staten Island, Michael A. Marti Street, Borough of Queens, Lt. Michael T. Quilty Way, Borough of Staten Island, Assistant Chief Gerard A. Barbara Way, Borough of Staten Island, E.M.T. David Marc Sullins Place, Borough of Queens\"\n",
    "raw = raw.split(',')\n",
    "\n",
    "location = [\"Frederick Douglass Boulevard and West 122nd Street\",\n",
    "            \"St. Nicholas Avenue and West 141st Street\",\n",
    "            \"Wheeler Avenue\",\n",
    "            \"Stickball Boulevard\",\n",
    "            \"75th Street and Shore Road\",\n",
    "            \"Avenue P and West 2nd Street\",\n",
    "            \"Captain Patrick J. Brown Walk\",\n",
    "            \"86th Street and 14th Avenue\",\n",
    "            \"14th Street and Prospect Park West\",\n",
    "            \"Frank P. Locicero Triangle\",\n",
    "            \"East 106th Street and Third Avenue\",\n",
    "            \"East 120th Stree\",\n",
    "            \"122nd Street\"          \n",
    "           ]\n",
    "\n",
    "i = 0\n",
    "j = 0\n",
    "\n",
    "namejson = []\n",
    "name = ''\n",
    "borough = ''\n",
    "\n",
    "for x in raw:\n",
    "    if (i%2 == 0):\n",
    "        name = x.strip()\n",
    "    else:\n",
    "        borough = getBorough(x)\n",
    "        print(name)\n",
    "        print(borough)\n",
    "            \n",
    "        entry = {\n",
    "            \"coname\":name,\n",
    "            \"borough\":borough,\n",
    "            \"loc\":location[j]\n",
    "        }\n",
    "        namejson.append(entry)\n",
    "        j += 1\n",
    "        name = ''\n",
    "        borough = ''\n",
    "    i += 1"
   ]
  },
  {
   "cell_type": "code",
   "execution_count": 128,
   "metadata": {},
   "outputs": [
    {
     "name": "stdout",
     "output_type": "stream",
     "text": [
      "56\n",
      "['Officer Kenneth Mahon joined the New York City Police Department in 1968 after serving in the United States Army in the Vietnam War.  While serving as an officer, he was decorated by the department thirty-six times, including eighteen excellent police citations, ten meritorious service citations and five departmental commendations.  He was serving in the anticrime unit for the last three years until the time he was killed in the line of duty and had over 259 arrests and disarmed about fifty people.  He was killed in the line of duty while trying to apprehend a suspect in a robbery that had taken place on December 27, 1974.', 'While incarcerated in the 1970’s, Richard Akbar Salahuddin brought many lawsuits against the New York State Department of Corrections such as, getting his name change recognized by the penitentiary, which he won, and other lawsuits pertaining to inmate’s rights. After completing his prison term he became active in his neighborhood and made great contributions to his community.  He became president of the Williams/Riverdale Avenues Block Association and was a strong advocate for human rights and worked to keep drug dealers off of Williams Avenue.  He was also a member of Community Board 5, ACORN and the Reverend Al Sharpton’s organization, Veterans Affairs and a legal mediator for several Muslim committees.  He also established the Summer Play Street Program on Williams Avenue.', 'Harry Wieder was a member of Community Board 3 (CB 3) and was an activist for gay rights and people with disabilities.  He was a member of CB 3’s Transportation Committee, as well as, Human Services, Health, Disability and Seniors/Youth and Education Committees.  He was also a member of 504 Democrats, Disabled in Action and the Coalition for a District Alternative.  He was also a member of the activist group Act-Up and was profiled in Betty Adelsen’s 2005 book entitled, “The Lives of Dwarfs: Their Journey from Public Curiosity Toward Social Liberation.”', 'University Settlement was founded in 1886 and was the first settlement house in the United States and addresses the needs of over 20,000 people a year.  It provides childhood programs, mental health services, after school and day camp programs, college preparation and guidance, eviction prevention, domestic violence services, specialized programs for older adults and adult literacy classes.', 'Jack Johnson was an American boxer, the second African-American boxing champion and the first African-American world heavyweight boxing champion. He was inducted into the Ring Boxing Hall of Fame in 1954 and the International Boxing Hall of Fame in 1990. He was also known for being the first celebrity athlete appearing regularly in the press, radio, and movies. He was also a connoisseur of Harlem night life and opened his own club called Club Deluxe at 142nd Street and Lenox Avenue.  In 1910, Congress passed the Act of June 25, 1910 known as the “White Slave Traffic Act or the Mann Act” which outlawed the transportation of women in interstate or foreign commerce for the purpose of prostitution or debauchery or for any other immoral purpose.', 'Ramona Jennett served as president of the 129th Street Block Association, secretary of Community Board 9, was Treasurer of the Women’s Democratic Club, parent coordinator at P.S. 129 and a staff member of New York Hospital’s Intensive Care Unit for Babies for over 40 years.  She was also a long-time community activist and contributor to the culture and stability of the Harlem community which inspired the Nutta Butta/Ramona Jennett Foundation for Kids.  The Foundation promotes social recreational activities as positive alternatives to drug experimentation and other criminal behaviors such as, a pre-Mother’s Day cookout, a basketball tournament, a fashion show and talent showcase, a father and kids day and a back to school jam.', 'Richard Cecere was a very active member of his community.  He served as chairperson of Community Board 3, was a member and former board member of the John F. Kennedy Democratic Club, former president of the New Visions Democratic Club and also served on the boards of the Newtown Senior Center in Elmhurst and the United Community Civic Association.  He was most active in the Kiwanis Club of Jackson Heights.  He joined the Kiwanis Club in 1990 and served as the second president of the Club and was the Club’s secretary for many years.  He also served as the chairperson of the Club’s Public Relations Committee and chaired the senior component of the Governor’s Project.', 'Scrabble is the quintessential New York game.  After being laid off from his job in the midst of the Great Depression, architect Alfred Mosher Butts, a resident of Jackson Heights, invented Scrabble after meticulous study and trial and error.  Mr. Butts masterminded and perfected the word game at Community Methodist Church located at 35th Avenue and 81st Street.  Currently, the game is sold in 121 countries in 29 different languages.  Over 100 million sets of the game have been sold making it the world’s best-selling game.  In 1995, a sign was erected on the corner of 35th Avenue and 81st Street that read 35T1H4 A1V4E1N1U1E1, but had to be taken down in 2008 because it was not erected in accordance with the Department of Transportation policies.  This co-naming will restore the sign.', 'Lawrence P. Dorsey served as a Supply Sergeant in World War II.  In 1970, Mr. Dorsey became the owner of an art-framing store at 553 Rogers Avenue known as Dorsey’s Picture Frame and Art Gallery.  It is now the oldest, continuously active, black owned art gallery in New York City.  The gallery served as a place for developing, mentoring and promoting African-American artists and well-known for its art exhibitions which packed the gallery with visitors.  Dorsey’s annual December holiday art auction and sale raised funds to purchase toys and medical equipment for children in local hospitals.', 'Pietro Cesare Alberti was born in Venice and became the first Italian to settle in America.  He prospered in New Amsterdam as the owner of a mansion and a farm built on land which later became the Brooklyn Navy Yard.  He also owned property near Broad Street in Manhattan.  His prominence in the early colonial history of New York City is evidenced by a street in Corona, Queens which once bore the name Albertus Avenue, the Dutch version of his name.  Also, the 103rd Street Corona Plaza station on the IRT Flushing Line was once named the Albertus Avenue station in honor of Alberti.  The American Italian Cultural Roundtable, an organization with several of its members and their extended families lived in Corona for many years walked along Albertus Avenue and exited the IRT trains at Albertus Avenue Station during the 1920’s and referred to both the street and the station by the original name Albertus for many years.  The life of Pietro Cesare Alberti is emblematic for the success of many immigrants who came to America and helped build the nation.', 'Luis Manuel Gonzalez was a loving son, caring father and great husband who joined the United States Army in 2002.  He was assigned to the 1st Battalion, 17th Infantry Regiment, 5th Stryker Brigade Combat Team, 2nd Infantry Division, Fort Lewis, Washington.  He was killed in combat in Afghanistan when enemy forces attacked his vehicle with an improvised explosive device.  He was awarded the Bronze Star and United States Army commendation over his eight year military career.', 'Vito S. Mauro died from illness as a result of inhaling toxic materials while partaking in the rescue and recovery efforts at the World Trade Center site following the September 11, 2001 terrorist attacks.  Previously, he served in the United States Marine Corp. before serving with the New York City Police Department (NYPD) for 18 years in the 67th Precinct in Brooklyn.', 'Dr. Giacomo J. Buscaino was a cardiologist who was very dedicated to his community.  He served on the Board of Trustees of Victory Memorial Hospital for twelve years and served as Chief of Cardiology for three years.  In 2004, he was recognized as Man of the Year by the National Federation of Italian American Societies.  In addition, he was a long standing sponsor of the 68th Precinct Baseball League and recipient of the Humanitarian of the Year Award from the Ben-Bay Kiwanis Club.  He was a board director for the not-for-profit, Luke M. Parlatore Scholarship Foundation which has awarded thirty-eight Staten Island Teens with scholarships that total $51,000 and has given over $5,000 to community outreach programs.', 'Andrew DiOrio served in the United States Army as an Infantry Radio and Communications Operator in WWII.  He was awarded the Purple Heart and Bronze Star.  Upon his return, he worked his way up to Lead Foreman in charge of the Brooklyn Army Terminal along with three other ports.  In 1956, he was asked by the Pastor of St. Rocco’s Roman Catholic Church if he would manage the Youth Center.  He served as General Manager of the Youth Center for 25 years.  He left that position when he was appointed as the Principal Administrative Associate for the Public Administrator of Kings County.  He was also the Court Analyst for the Surrogate Court of Brooklyn and later served as Deputy Public Administrator of Kings County.  He served as Chairman of Community Board 7 where he was instrumental in getting Sunset Park designated as a Neighborhood Strategy Area getting $10 million for improvements to the area, a new Sanitation Garage built and a new school (PS 314) built.  He received the man of the Year Award from the Yankee Circuit and YMCA, the Bishop Mugavero Award, the Leif Erikson League Board of Directors Award and others.', 'This intersection will be named for five firemen killed in the 9/11 attacks.', 'Abe Kanter was a founder of a local AARP chapter, a longtime assistant scoutmaster, an auxiliary police officer with the 68th Precinct for more than a decade and a commander of the Jewish War Veterans.  He would also visit patients at the VA Hospital and guided visitors through the Harbor Defense Museum at Fort Hamilton.', 'Rabbi Zvi Florence was on the Community Board 12 for many years and was dedicated to providing entertainment and arts to the Borough Park community. He helped organize the Annual Purim Parade, the Choel Hamoed Festival and the Succathon in Borough Park.  The events were attended by members of the NYPD and FDNY, many politicians and the entire Jewish community in the area.  He had an art contest for children that related to the Purim Parade. He wrote a column for “The Jewish Press” - “The Trouble Spot,” where he addressed questions regarding community issues.  Rabbi Florence received many commendations and trophies for the activities he provided to the community from the White House and the Mayor’s office.', 'George J. Regan was an attorney who practiced in New York for over 45 years and was a member of many community and professional organizations.  He was president and counsel to the Queens County Civic Council, a member of the Executive Committee of the Whitestone Taxpayer Civic Association, chairman of the Queens County Bar Association and Administrative Law Judge for the New York City Department of Environmental Conservation and Parking Violations Bureau.  Mr. Regan donated his time and professional expertise to a wide variety of community groups including serving as President of the Queens Civic Council, Counsel to Queens Federation of Civic Councils, President of the Whitestone Boosters Civic Association, Officer to North Shore Co. Coordinating Council, Executive Board Member of the Greater Whitestone Civic Association, Vice President and Director of the Queens Playhouse, a not for profit theatre company, Legal Advisor to Veterans of Foreign Affairs, former Assistant District Attorney, Queens County, member and former Vice-President of Local School Board District 25, former member and President of the Whitestone Kiwanis Club, former director of the American Red Cross, Flushing Chapter as well as a variety of other organizations including professional groups, civic groups, political groups and religious groups. For many years he was extraordinary citizen and community leader in Whitestone.', 'Dominick Berardi was killed in the terrorist attacks on September 11, 2001.  He was twenty-five years old and worked for Canter and Fitzgerald on the 101st floor.', 'Susan Healy served as a school crossing guard for the Police Department for six years.  She was stationed at Klondike Avenue and Merrymount Street in New Springville near PS 69 and Laurie Intermediate School.  Ms. Healy saved a toddler from a life threatening situation when on duty, she noticed a toddler crawling into the street.  She walked over and picked up the toddler and continued her duty crossing children.  Later on, the toddler’s mother picked up her child from Ms. Healy and explained that she was picking up her other children while her husband was doing housework.  Her child was able to get out of the house without the father realizing.  As a result of Ms. Healy’s heroic efforts, the child was protected from any danger in the meantime.', 'Dorothy Maynor was an African-American soprano, music educator and one of the most highly praised singers of the 1940’s and 1950’s.  She studied at the Hampton Institute and received a B.S. in 1933 and began her career singing in various choirs and toured Europe with the institute’s most famous chorus.  She went on to perform with most of the major American orchestras and was one of the most sought after performers.  She married the Rev. Shelby Rooks, pastor of St. James Presbyterian Church in Harlem in 1942.  In 1963, she founded the Harlem School of Arts which, under her leadership, grew from 20 students to 1,000 by the time of her retirement in 1979.  She also became the first African American on the Board of Directors of the Metropolitan Opera.', 'Ricardo A. Perez came to the United States in the early 1970’s and became a citizen.  He became an entrepreneur in Washington Heights, owning various pharmacies, a medical clinic and over thirty money transfer locations.  He served on the Community Board for over thirty years and donated and contributed to all local schools and churches, the NYPD, PAL baseball and softball leagues and the Dominican Chamber of Business.  He was a strong supporter of Montefiore Park contributing towards its maintenance and care and was an active member of the Lions Club and their good works in the area of health and welfare.  He also worked with the local precinct to keep drugs out of the neighborhood.  He also did the same in other Boroughs such as the Bronx, Queens and Brooklyn.  He was a constant contributor to the 30th Precinct Community Council by donating to yearly events such as the Annual Night Out Against Crime, the Senior Citizen Christmas Dinners and the Annual Christmas Party for the Children.', 'This street sign will commemorate the 200th Anniversary of the church.', 'Dr. Theodore Kazimiroff was born May 22, 1914, in the Borough of the Bronx.  He attended James Monroe High School and was graduated with honors from Manhattan College in 1936.  He was an associate professor on the faculty of the New York University Dental College where he had received his DDS degree in 1940.  He founded the Bronx County Historical Society in 1955 and served as its first president.  Dr. Kazimiroff was appointed official Bronx historian by then Borough President James J. Lyons.  He organized the excavation of the Revolutionary War sites in Pelham Bay Park and he also was the leader in the drive to save the Valentine-Varian House which is now the Museum of Bronx History.  Dr. Kazimiroff was a consultant to the New York Botanical Garden, the Bronx Zoo, the Museum of Natural History and the Museum of American Indians and was a fellow of the New York Zoological Society.  He was made president of the Kingsbridge Historical Society in 1974 and that same year received a Distinguished Service Award from the New York Botanical Garden.', 'Geraldine Ferraro was a Democratic Party politician, a member of the United States House of Representatives and was the first female Vice Presidential candidate for former Vice President Walter Mondale. She served as an assistant district attorney in Queens and created the Special Victims Bureau and the Confidential Units while at this position. She specialized in cases involving sex crimes, crimes against the elderly, family violence and child abuse. From 1974 – 1978, she served on the Advisory Council for the Housing Court of New York City and as president of the Queens County Women’s Bar Association. In 1978, she ran for Congress and won reelection in 1980 and 1982. In 1982, she was appointed to the House Budget Committee and also served as a member of the House Committee on Public Works and Transportation. In 1984, she was chosen by Democratic presidential nominee, Walter F. Mondale to be his running mate for the presidency but lost the election. After her term in Congress expired in 1985, she remained active campaigning for other female Democratic candidates in New York and lost a campaign for the United States Senate seat. However, she still continued to support women’s interest and other social issues and continued to inspire all people.', 'This co-naming is in honor of the many contributions emigrants from Mola, Italy have made to Brooklyn, New York City and the United States as a whole.  The Van Westerhout Cittadini Molesi Social Club is a club for immigrants from the town of Mola, in Bari, Italy. The club, which celebrates its 50th Anniversary this year, is on the corner of Court Street and 4th Place, in Carroll Gardens, Brooklyn. Over the past half century, the Van Westerhout Cittadini Molesi Social Club has been assisting recent immigrants adjust to life in America, and helping support Italian culture in Brooklyn.The Van Westerhout Cittadini Molesi Social Club has contributed to Carroll Gardens, Brooklyn, and the City of New York in many ways. The club had a seat on the New York City anti-poverty council and New York City Partnership during the War on Poverty. It also helped organize community members to form the Carroll Gardens Association, which for the past 40 years has worked throughout Brooklyn to preserve communities and prevent the deterioration of neighborhoods through affordable housing development, property management, economic revitalization, and outreach and advocacy programs.Additionally, the Van Westerhout Cittadini Molesi Social Club has also joined in planting trees and greening Carroll Gardens for decades.  On top of the contributions of the club as a whole, many members of the Van Westerhout Cittadini Molesi Social Club have made outstanding contributions to Carroll Gardens, Brooklyn and the City of New York. Social club member Michael Pesce represented Carroll Gardens and the surrounding neighborhoods in the New York State Assembly, and is now a judge on the Supreme Court of the State of New York. The Van Westerhout Cittadini Molesi Social Club also included four young members who were killed in the attacks on September 11, 2001: Joseph Agnello, Grace Galente, Danny Pesce, and Dominick Berardi.', 'Lance Corporal Julian T. Brennan grew up in south Park Slope and was an avid cyclist.  He was assigned to the 3rd Battalion, 8th Marine Regiment, 2nd Marine Division, II Marine Expeditionary Force, Camp Lejeunne, North Carolina.  He was killed by a roadside bomb blast during a combat mission in Afghanistan’s Farah Province.  He was 23 years old.', 'Originally from Wilson, North Carolina, Willie McDonald moved to Brooklyn in the early 1950’s and shared his love of cooking with the community.  The community enjoyed his cooking so much, that he became involved with the Warren Street Houses feeding hundreds of people as well as a countless number of the homeless for over 30 years.  He was also a very active member of Community Board 2, the Fifth Avenue Committee and the PSA.  In addition, he was Tenant Patrol Supervisor for the New York City Housing Authority and became Vice President of the Warren Street Houses Tenant Association.', 'The current street sign on Humboldt Street reads Pope John Paul II Square.  However, the Pope is now referred to as Blessed John Paul II since his beatification on May 1, 2011, and the community would like a new street sign to reflect that.', 'Naiesha (Nana) Pearson was killed at her neighborhoods end-of-summer barbeque when two men got into an argument and gun was fired. Unfortunately, the bullet ended up hitting Naiesha and she later died in the hospital.  Naiesha’s death led to the creation of the Walk Against Gun Violence rally, which is now an annual event in the South Bronx community, led to the creation of the Bronx chapter of the New Yorkers Anti-Gun Violence, as well as the first Gun Buy Back program in the Bronx.  Her death was also recognized by her aunt and community organizer Gloria Cruz and Mayor Bloomberg at the Mayors Against Illegal Guns event and was recognized by Speaker Sheldon Silver in the passage of state legislation aimed at protecting New Yorkers from gun violence.', 'In 1969, the New York State chapter of the National Young Lords Organization was formed as a human rights organization and began establishing its signature “serve the people” programs.  The Young Lords brought public awareness to poverty, lack of health care and affordable housing, alleged police abuse, inadequate education and other social equality issues.The Lords were likely the first group in the City’s history to recognize and make the public aware that poverty was linked to poor health and environmental hazards.  Their contributions to the public good, such as the rebuilding of Lincoln Hospital and raising awareness of public health and environmental hazards in poor neighborhoods were real and long lasting.  Several individual members of the Young Lords went on to long and distinguished careers in the media, including Pablo Guzman, Juan Gonzalez, and Geraldo Rivera', 'Odessa Steward served as a volunteer police officer after being rejected from the Police Academy.  Through hard work and dedication, she later became the President of the 24th Precinct Community Council.  Her advocacy efforts in public safety led to an increase in support staff not only for her precinct, but for other precincts throughout the city.  She was a long-time resident of the Frederick Douglass Houses and served on several civic and social enrichment activities for the community including the Housing Tenant Patrol, the Tenants Association and the women’s softball league in Central Park.Ms. Steward worked with the Westside Women’s Committee to help the homeless and received over 30 awards and certificates of appreciation from Mayor Dinkins, Police Commissioner Ben Ward and Lee Brown and Governor Mario Cuomo.  Some of the awards and certificates received were for outstanding service given the NYPD, recognition for improving the quality of the environment in the city, recognition for community service towards creating the Walk Away from Drugs program, recognition for creating 65 receptionist positions within the NYPD and appreciation for creating the annual 24th Precinct Christmas party for underprivileged children.', 'Phillip Reed was the first openly gay black member of the New York City Council who represented East Harlem and Manhattan Valley and parts of the Upper West Side and the South Bronx.  He was involved in the Stonewall riots and later spent 10 years in San Francisco as a salesman for the Otis Elevator Company and as a gay political activist.  In the 1970’s, he returned to New York and became politically active and ran a service program in Brooklyn for people with HIV.  In the 1980’s, he became a Democratic district leader.  Mr. Reed became HIV positive in 1981.  He won the City Council seat, both in 1997 and 2001 and was a champion of asthma prevention legislation, frequently pointing out that his district had some of the highest rates of asthma in the state.  He also advocated for affordable housing and was a staunch opponent of a plan by the former Giuliani Administration to relocate the Museum of the City of New York from East Harlem to the old Tweed Courthouse near City Hall.As a member of the Health Committee, he protected and preserved HIV/AIDS funding from cuts and made sure those funds were distributed to the areas and agencies in the field that did the work and the outreach.  He also kept the Department of Health from closing the 115th Street Community Health Office and Dental Clinic in East Harlem, organized the largest coalition to fight against the redevelopment of the 100th Street Bus Depot, re-established the East Harlem Asthma Working Group and restored and created parks and playgrounds throughout his district and beyond.', 'This section of 5th Avenue is noted for the number of museums located on it.  The attractions include the Metropolitan Museum of Art, the Museum of the City of New York, the International School of Photography, the Jewish Museum, the Museum for African Art and the Goethe House among others.  This co-naming will be extending Museum Mile to 110th Street due to the new Museum for African Art opening to the public in the fall of 2011 at the corner of Fifth Avenue and 110th Street.', 'Omar Edwards graduated from the Police Academy in July 2007 and was assigned to the 25th Precinct ant-crime team.  In 2009, Officer Edwards was fatally shot in a friendly fire incident while he was in plainclothes chasing a man who had just broken into his car.', 'Ellen Stewart was the first African-American fashion designer for Saks Fifth Avenue and founder and artistic director of La MaMa Experimental Theatre Club at 74A East 4th Street.  She moved to New York City in the late 1940’s and later, with an appreciation for the arts, founded the La MaMa Experimental Theatre Club which has presented over 1900 productions.  Its resident theatre troupes have performed throughout the world including Columbia, Venezuela, Iran, Belgium England, Sweden, Korea and Turkey among others.  New Eastern European Theatre was introduced in America in 1967 when Ms. Stewart brought Jerzy Grotowski, Ryszard Cieslak and Ludwig Flaszen to America.  She was awarded many honorary doctorates and awards such as the MacArthur Genius Award and the National Endowment for Arts and Culture, the Les Kurbas Award for Distinguished Services to Art and Culture from the Ukraine, was inducted into the Broadway Theatre Hall of Fame, becoming the first OFF-Off-Broadway Producer to receive this honor and was awarded the Order of the Sacred Treasure, Gold Rays with Rosette by the Emperor of Japan.', 'Frances Sara Levine Kaplan operated the family dry cleaning business for approximately 50 years on Brighton Beach Avenue.  She was a very dedicated activist for over 30 years.  Ms. Kaplan participated with the citywide organization known as the Joint Public Affairs Committee for Older Adults, the Jewish Association of Services for the Aged, the Brooklyn Interagency Council and worked at the Shorefront Inter-Agency for the Aging.  She worked every Election Day for a number of years at Grady High School as well as the Shorefront Y where she also served lunch to seniors.  She was also a member of the Shorefront Democratic Club, the Good Government Democratic Club and the Luna Park Democratic Club and was on the Board of Directors of the Brighton Neighborhood Association, Brighton Beach Bid, the Older Woman’s League and the Brighton Board of Trade. She was active, though not a member of Community Board 13 and the 60th Precinct Police Council. She was associated with Friends of the Boardwalk and was very active in fundraising for Friends of the Library, which involved wrapping gifts at holiday time. She also regularly participated at the B’ nai B’ rith Brighton Atlantic Branch.  After her death, there was created in memory of her activism, the annual “Frances Levine Kaplan Community Service Award.”', 'Stephen J. Solarz served in the New York State Assembly, 45th Assembly District from 1969 – 1975. Soon after, he was elected to the United States House of Representatives serving from January 3, 1975 – January 3, 1993. Both in the State Assembly or Congress, Solarz was always mindful of local issues, calling himself “Representative Pothole.” In 1980, he was the first American public official to visit North Korea since the end of the Korean War to meet with Kim II-sung. He chaired the Asian and Pacific Affairs Subcommittee of the House Foreign Affairs Committee and was remembered for his leadership in the Philippines by pushing the Reagan administration to distance itself from the Marcos government. He led the congressional movement for democracy in the Philippines and held highly publicized hearings to prove that Ferdinand and Imelda Marcos had looted the Philippine treasury of millions of dollars to buy real estate in the United States. After President Ferdinand Marcos left the Philippines, Solarz worked closely with Benigno S. Aquino’s widow and president, Corazon, who dubbed Solarz the Lafayette of the Philippines.In 1990,he introduced a bill denying a sports team that leaves a city the right to sue for trademark infringement. The bill grew out of a suit filed by the Los Angeles Dodgers against the Brooklyn Dodgers Sports Bar and Restaurant in Brooklyn. After he left Congress in 1993, he worked as a consultant and volunteer for nonprofit international organizations. He was appointed by President Bill Clinton as chairman of the United States government funded Central Asian American Enterprise Fund to bring private development to Central Asia and co-founded the International Crisis Group, a private, non-governmental organization designed to strengthen the international community’s ability to anticipate and prevent man-made crises. Stephen Solarz died of esophageal cancer on November 29, 2010 in Washington, D.C. at the age of 70. He left behind his beloved wife Nina, two step-children and grandchildren.', 'Amanda Forsyth was sixteen years old when she was killed when she was struck by a car leaving a sweet-sixteen party with friends. Her family donated her organs to help others and made life possible for seven people who were in need.  As a result of her death, the Forsyth family created the Gift of Life Family Transport, a charity that assists families in the New York City area and works with the New York Organ Donor Network and local hospitals as an official service to families in need.  The charity provides families of organ donors in the New York City area with 24 hour transportation during the days awaiting the arrival of transplant teams.  The drivers are volunteers from the NYPD and NYFD.', 'Deborah L. Macula graduated from Countess Moore High School and later obtained a Master’s Degree in Education from Richmond College and a 6th Year Certificate in Supervision and Administration from the College of Staten Island.  She worked twenty-nine years at Our Lady of Peace, twenty as a teacher and nine years as the Principal.  She helped families in need and raised funds for Staten Island organizations.  She was to be awarded the prestigious St. Elizabeth Ann Seton Compassionate Educator Award but passed away shortly before the ceremony. Her husband accepted the award in her memory.  A medical clinic for the poor and downtrodden now occupies the one room school in Town of Mary, India, named in Deborah’s memory.  Town of Mary is approximately 30 miles from the city of Hyderabad.  Ms. Macula’s annual Lenten Read-A-Thon raised funds for this school which is now a clinic and other Staten Island organizations.', 'Franciska Lechner, Mother Franciska, founded the Congregation of the Daughters of Divine Charity in Vienna, Austria in 1868.  The Congregation provided shelter for young working women during the European Industrial Revolution.  Currently, the Congregation’s apostolic works extend to the education of youth, providing care and home for the elderly and mentally and physical disabled worldwide.  The Congregation continues to serve in Albania, Africa, Austria, England, Germany, Italy, Poland and the United States.  This is an elementary school and high school on Staten Island.', 'Anthony Neglia was a leader with the 86th Street-Bensonhurst Community Merchants working with stores, the City of New York and industries to make this shopping district thrive.  He started the 86th Street Festival, worked with the Kiwanis Club as well as with the Bensonhurst Board of Trade, the Retail Labor Consumer Federation and the Decorating Products Dealers Association.  Mr. Neglia provided annual scholarships for Bishop Kearney students who were in need of financial assistance. Bishop Kearney is one of the finest all girl parochial schools in the city of New York. He also organized food drives for the poor and needy especially during holiday seasons and arranged for direct support and/or financial assistance for people in the community who suffered a tragedy. Many families who were victims of home fires', 'Zachary Sansone was born in Brooklyn and at the age of 12 he moved to Italy with his family. After World War II, he became the first democratically elected mayor of Sant’ Antoio Abate, Italy. He returned to New York in 1949 and became very active with his wife in social service work and together they founded the Congress of Italian American Organizations (CIAO) in the 1960s. Their success of over 40 years included the opening of daycare, senior and social service centers throughout the city. CIAO was one of the city’s largest social service agencies in the 1970s and 80s.', 'Dr. Betty Shabazz came to public attention as the wife of El-Hajj Malik El-Shabazz, formerly known as Malcolm X. After graduating from high school, Dr. Shabazz attended the Tuskegee Institute, a historically African-American institution in Alabama. She decided to move to New York City to study nursing and also was introduced to the Nation of Islam at this time.  It was through attending lectures at Temple Number 7 that Dr. Shabazz came to know Malcolm X, and consequently joined the Nation of Islam. The two married, and stayed in the Nation of Islam for a total of 8 years. During this time, Dr. Shabazz participated in a number of activities with her husband Malcolm, contributing to self-empowerment and self-determination in African-American communities in New York City.', 'Daniel P. Rieu served as a lieutenant and radio officer in the Merchant Marine during World War II and when discharged, had a 47-year career as a technician at New York Telephone.  He served as vice-president to the Westerleigh Improvement Society for over 30 years and served as editor of its newsletter for over 40 years.  He was also a Community Board 1 from 1967 to 1983 and was chair of the Westerleigh Area Committee and the Zoning and Planning Committee.  He was a Member of the Westerleigh AARP and was the recipient of the national AARP Achievement Award for Outstanding Service to Seniors.  He was an advocate for the preservation of the Staten Island Greenbelt and also advocated for services for children and adults with special needs as a member of the Staten Island Aid for Retarded Children and the Exceptional Children’s Social Club.', 'William Murphy was the longest serving District Attorney in Staten Island history.  In 1969, he began his career as a prosecutor in Manhattan District Attorney Frank Hogan’s office and became the chief of the Indictments Bureau.  He also served under District Attorney Richard Kuh and Robert Morgenthau.  In 1982, he prosecuted John Cassiliano, known as Johnny Cash, who took bribes to allow toxic waste to be dumped at the old Brookfield landfill.  He regarded this as one of the highlights of his career.  His office also won convictions against child kidnapper Andre Rand, murderer Elena Kiejliches and cop killer Shatiek Johnson.In 1983, he was appointed District Attorney by then Governor Mario Cuomo, and later won the election to the position that November.  He was the president of the National District Attorneys Association and the New York State District Attorneys Association, a member of the National College of District Attorney’s Board of Regents and also taught the Police Department’s Homicide Investigator course and lectured at the Criminal Justice Service’s basic and economic crime courses for prosecutors.  In addition, he was chairman of the Staten Island Unit of Leukemia Society and the Advisory Board of the Catholic Youth Organization and also served on the advisory boards of Bayley Seton Hospital, St. John’s University, the Goodhue Center and also served on the board of Community Agency for Senior Citizens.  He once served as grand marshal of the 1983 Staten Island St. Patrick’s Parade.', 'Lizzie Ruth Brown worked for the New York City Department of Health as a supervisor for the Central Complaints Division for 25 years.  She was a community activist and president of the Beach 41st Tenant Association for 11 years.  She was a civic leader and her tenant association represented 13 buildings with approximately 1700 people.  Through her efforts her community saw many positive changes and she helped improve the quality of life for all of the Rockaways.  When the city proposed closing the Beach 41st Houses Community Center, she immediately summoned elected officials and the community to prevent the center from closing.  As a result of her efforts, the community center was saved.  Although she tackled big issues like tenant safety, she also focused on other concerns such as more street lighting for her development.  She successfully worked with elected officials to successfully receive new lighting in her community. She also helped tenants with housing, education and personal issues. She also volunteered at the Full Gospel Tabernacle Church.', 'Jack King enlisted in the United States Navy on his 17th birthday and served in the Pacific for 2 years.  With his love for baseball, he founded and coached a team of boys in Brooklyn’s Parade Grounds.  He also became active in the Knights of Columbus.  He moved to Rockaway and coached his son’s CYO team at St. Francis de Sales becoming the baseball commissioner and helped the parish build a successful baseball program.  He volunteered as a block captain for the Belle Harbor Property Owners Association (BHPOA) and later served as vice president and president.  As president of the 100th Precinct Community Council, he created a network of activism across the precinct and peninsula by reaching out to the 101st Precinct Community Council and organizing the first National Night Out Against Crime in Rockaway.  He worked with community leaders and activists to found the Arverne Civic Association, the Rockaway Park Residents and Homeowners and the Rockaway Action Committee.  He also served as chair of the Transportation Committee on Community Board 14.', 'Ann Buehler began as a volunteer at the Boys Club, later known as the Variety Boys and Girls Club, in 1952 helping raise funds for a safe place for kids to play.  She was the first woman director of a Boys Club out of 1500 clubs.  She worked as the Civil Service Commissioner under Mayors Koch and Beame and was president of the Astoria Women’s Club, member of the Ravenswood Lions Club, Astoria Civic Association, United Community Civic Association, Astoria Historical Society and board member of Central Astoria Local Development.  She received a citation from President Truman for volunteer work during World War II and also volunteered for the Red Cross and Greater NY Fund and received many citations from the 114th Police Precinct.  She was also responsible for obtaining many college scholarships for Variety Boys and Girls Club members.', 'From 1898 to 1930, Celtic Park was the athletic stadium, track and field of the Irish-American Athletic Club (IAAC). The emblem of the club was a winged fist with American flags and shamrocks and the Irish motto, ‘Laim Laidir Abu’ or ‘Strong Hand Forever,’ hence the nickname, The Winged Fists of Celtic Park. For over 30 years, Celtic Park was the primary meeting place for the Irish community in New York City and the training grounds for the champion athletes of the IAAC. Between 1900 and 1924, members of the IAAC won 56 medals for the United States Olympic team, being one of the premier athletic organizations in the world. IAAC members included the first African-American John Baxter Taylor and the first Jewish athlete, Myer Prinstein to win Olympic gold medals for the United States Olympic team.', 'Moses P. Cobb was the first African-American police officer in the Brooklyn Police Department and was also the first African-American police officer in the consolidated NYPD after Brooklyn joined New York City in 1898.', 'Charles C. Pinn was a youth organizer and a devoted legislative assistant for Assemblyman Al Vann and New York City Council Member Annette Robinson.  In 1980, he founded the Young Peoples Macon-Macdonough-Stuyvesant-Lewis Block Association and was elected treasurer of the student government at Samuel J. Tilden High School.  In recognition of his high school record of service, he received the Daily News Principal’s Pride of the Yankees Award and the Cooperation in Government Certificate by the High School Division of the Board of Education.  In 1985, he served as a volunteer for the Vannguard Independent Democratic Association (VIDA) and organized Junior VIDA which held block association and PTA forums, youth speak-outs, tenant associations and town hall meetings.  He was elected secretary of the Brooklyn Branch of the NAACP and was a member of the Board of Directors of the Fort Greene Senior Citizens Council, Inc. and a consultant to Malcolm X, Marcy and Risley Dent Senior Centers.', 'Thomas White Jr. was a long-time member of the New York City Council representing the 28th District in Queens.  He was chairman of the Economic Development Committee and co-founder and executive director of J-CAP, one of the largest substance abuse treatment programs in the state.  Economic development and substance abuse were two of his primary issues.  However, he also pushed for job-training programs and initiatives that helped the poor and protected victims of violence.  Mr. White also worked on issues such as teen pregnancy prevention and helped to create primary care programs for those suffering from HIV/AIDS.', 'Henry Grate Sr. had an open door policy towards the people of his community.  He was the unofficial community barber and never charged anyone.  He also was a skilled carpenter and taught valuable carpentry skills to the children in the neighborhood.  In the 1970’s, he was a member of the Remington Street Block Association and was a sponsor of numerous block parties on 107th Avenue.  He also built a home recording studio in his basement to give the youth a positive outlet to express their talents.  Here, youths developed their musical skills for free and some went on to be accomplished musicians such as, Najee, Bernard Wright, Michael Murphy and Marcus Miller.', 'Monsignor Paul M. Andrews was Pastor of St. Rita’s Parish from 1950 until his retirement in 1985. He is remembered by priests and parishioners for building up St. Rita’s by launching a funding drive to build a new school when St. Rita’s population surged. He also completed construction on a new church building and rectory. He brought a sense of unity to the Parish and later served as the Episcopal Vicar for Staten Island from 1975 until 1981.', 'Frank Justich was a devoted husband, father and friend who was a talented artist.  Everybody in his neighborhood referred to him as “one of the nicest guys on Earth.”  He was a Department of Sanitation worker who was killed on duty when he was struck by a tractor trailer.  His badge number 11444 will be retired and Queens West 1 Garage where he worked will be named for him.']\n"
     ]
    }
   ],
   "source": [
    "## getting naming reasons 2011\n",
    "\n",
    "filename = 'files/2011.txt'\n",
    "\n",
    "file = open(filename,'r')\n",
    "lines = file.readlines()\n",
    "file.close\n",
    "\n",
    "lines = [x.replace('\\n', '') for x in lines if x != '\\n' or x != '']\n",
    "lines = [x.replace('\\xa0', '') for x in lines if x != '\\n' or x != '']\n",
    "new_lines = [x for x in lines if x != '']\n",
    "\n",
    "reason = []\n",
    "t = ''\n",
    "\n",
    "for i in range(len(new_lines)):\n",
    "    if 'Section' in new_lines[i]:\n",
    "        t = ''\n",
    "        j = i+1\n",
    "        \n",
    "        while j-i<8 and j+1 < len(new_lines) :\n",
    "            \n",
    "            if '      ' in new_lines[j]:\n",
    "                \n",
    "                t += new_lines[j].strip()\n",
    "                \n",
    "            if 'Section'in new_lines[j+1]:\n",
    "                \n",
    "                reason.append(t.strip())  \n",
    "                break\n",
    "            \n",
    "            j += 1\n",
    "\n",
    "\n",
    "\n",
    "last = 'Frank Justich was a devoted husband, father and friend who was a talented artist.  Everybody in his neighborhood referred to him as “one of the nicest guys on Earth.”  He was a Department of Sanitation worker who was killed on duty when he was struck by a tractor trailer.  His badge number 11444 will be retired and Queens West 1 Garage where he worked will be named for him.'\n",
    "reason.append(last)\n",
    "\n",
    "print(len(reason))\n",
    "print(reason)"
   ]
  },
  {
   "cell_type": "code",
   "execution_count": 96,
   "metadata": {},
   "outputs": [],
   "source": [
    "## getting naming reasons 2002\n",
    "\n",
    "filename = 'files/2002-1-story.docx'\n",
    "\n",
    "from docx2python import docx2python\n",
    "\n",
    "# extract docx content\n",
    "doc = docx2python(filename,html=True)\n",
    "# doc.body[0][0][0]\n",
    "\n",
    "lines = [x for x in doc.body[0][0][0] if x != '']"
   ]
  },
  {
   "cell_type": "code",
   "execution_count": null,
   "metadata": {},
   "outputs": [],
   "source": []
  },
  {
   "cell_type": "code",
   "execution_count": 133,
   "metadata": {},
   "outputs": [],
   "source": [
    "def addParagraph(add,i):\n",
    "    if '<' in add:\n",
    "        story[i] += add.split('>',1)[1].split('<',1)[0].replace('\\t','')\n",
    "    else:\n",
    "        story[i] += str(add).replace('\\t','')\n",
    "      \n",
    "def isTitle(text):\n",
    "    if '<b>' in text or len(text)<50 :\n",
    "        return True \n",
    "    else:\n",
    "        return False\n",
    "    \n",
    "def isSecond(text):\n",
    "    if 'The following' in text:\n",
    "        print(text)\n",
    "        return True\n",
    "    else:\n",
    "        return False"
   ]
  },
  {
   "cell_type": "code",
   "execution_count": null,
   "metadata": {},
   "outputs": [],
   "source": []
  },
  {
   "cell_type": "code",
   "execution_count": 137,
   "metadata": {},
   "outputs": [
    {
     "name": "stdout",
     "output_type": "stream",
     "text": [
      "<font size=\"26\">The following biography was provided by “Spectrum: Home and School Magazine.”</font>\n",
      "<font size=\"26\">The following biographical material was provided by the Amadou Diallo Educational and Charity Foundation.</font>\n",
      "<font size=\"26\">The following biographical information was provided by Community Board 9 in the Bronx and the Office of the Bronx Borough President.</font>\n",
      "<font size=\"26\">The following biographical information was provided by the Bello family.</font>\n",
      "<font size=\"26\">The following biographical material was provided by the Nigro family.</font>\n",
      "<font size=\"26\">The following biographical information was provided by New York City Fire Department Press Office.</font>\n",
      "<font size=\"26\">The following biographical information was provided by the Knights of Columbus.</font>\n",
      "The following biographical material was provided by Alfred P. Raffo, a colleague and family friend.\n",
      "The following biographical information was provided by the Bellerose Hillside Civic Association.\n",
      "The following biographical information was provided by Edwin Marrero a friend of the Vega family.\n",
      "The following biographical material was provided by the Rodriguez family.\n",
      "The following biographical material was provided by the Pickford Family.\n"
     ]
    }
   ],
   "source": [
    "current = ''\n",
    "i = -1\n",
    "story = [''] * 12\n",
    "\n",
    "for x in lines:\n",
    "    if isSecond(x):\n",
    "        i += 1\n",
    "    elif isTitle(x) == False:\n",
    "        addParagraph(x,i)"
   ]
  },
  {
   "cell_type": "code",
   "execution_count": 138,
   "metadata": {},
   "outputs": [
    {
     "data": {
      "text/plain": [
       "13"
      ]
     },
     "execution_count": 138,
     "metadata": {},
     "output_type": "execute_result"
    }
   ],
   "source": [
    "#in 2002-1, the first two streets are named for the same reason\n",
    "first = story[0]\n",
    "story.insert(0,first)\n",
    "len(story)"
   ]
  },
  {
   "cell_type": "code",
   "execution_count": 139,
   "metadata": {},
   "outputs": [
    {
     "data": {
      "text/plain": [
       "[{'coname': 'Harriet Tubman Square',\n",
       "  'location': 'Frederick Douglass Boulevard and West 122nd Street, Manhattan, NY',\n",
       "  'content': 'Harriet Tubman was born Harriet Ross in Dorchester County, Maryland in 1820. Her parents were from the Ashanti tribe of West Africa, and they worked as slaves on the Brodas plantation. In addition to producing lumber, Edward Brodas raised slaves to rent and sell. Life was difficult on the plantation, and Harriet was hired out as a laborer by the age of 5. Harriet did not like to work indoors, and she was routinely beaten by her masters. By her early teens, Harriet was no longer allowed to work indoors and was hired out as a field hand. She was a hard worker but considered defiant and rebellious. When she was 15 years old, Harriet tried to help a runaway slave. The overseer hit her in the head with a lead weight, which put Harriet in a coma. It took months for her to recover, and for the rest of her life, Harriet suffered from blackouts. In 1844, Harriet married a free black man named John Tubman. Harriet remained a slave, but she was able to stay in Tubman\\'s cabin at night. Although she was married, Harriet lived in fear of being shipped to the deep South, a virtual death sentence for any slave. In 1849, her fears were realized when the owner of the Brodas plantation died and many of the slaves were scheduled to be sold. After hearing of her fate, Harriet planned to escape that very night. She knew her husband would expose her, so the only person she informed was her sister. Harriet made the 90 mile trip to the Mason-Dixon line with the help of contacts along the Underground Railroad. She had to hike through swamps and woodland. Harriet\\'s trip was successful, and she settled in Philadelphia. She worked as a dishwasher and made plans to rescue her family. The next year, Harriet traveled back to Maryland and rescued her sister\\'s family. She then returned to transport her brothers to the North. She went back for her husband, but he had remarried and did not want to follow her. In 1857, Harriet finally returned for her parents and settled them in Auburn, New York. By this time, Harriet was becoming quite well known and huge rewards were offered for her capture. Harriet was the master of disguise. A former master did not even recognize her when they ran into each other on the street. She was nicknamed the \"Moses of her people\" for leading them to freedom. In all, Harriet made 19 trips on the Underground Railroad and freed more than 300 slaves. With the arrival of the Civil War, Harriet became a spy for the Union army. She later worked in Washington DC as a government nurse. Although Harriet won admiration from the military, she did not receive a government pension for more than 30 years. At the end of the war, Harriet returned to her parents in Auburn. She was extremely poor and the profits of a book by Sarah Bradford entitled “Scenes in the Life of Harriet Tubman”, published in 1869 were a great financial help. In 1870, Harriet married Nelson Davis, who she had met at a South Carolina army base. They were happily married for 18 years until Davis\\' death. In 1896, Harriet purchased land to build a home for sick and needy blacks. However, she was unable to raise enough money to build the house and ultimately gave the land to the African Methodist Episcopal Zion Church. The church completed the home in 1908, and Harriet moved there several years later. She spent her last years in the home telling stories of her life to visitors. On March 10, 1913, Harriet died of pneumonia. She was 93 years old. Harriet Tubman was not afraid to fight for the rights of African-Americans. Her story is one of dedication and inspiration. During her lifetime Harriet was honored by many people. In 1897, her bravery even inspired Queen Victoria to award her a silver medal. '},\n",
       " {'coname': 'Harriet Tubman Avenue',\n",
       "  'location': 'St. Nicholas Avenue and West 141st Street, Manhattan, NY',\n",
       "  'content': 'Harriet Tubman was born Harriet Ross in Dorchester County, Maryland in 1820. Her parents were from the Ashanti tribe of West Africa, and they worked as slaves on the Brodas plantation. In addition to producing lumber, Edward Brodas raised slaves to rent and sell. Life was difficult on the plantation, and Harriet was hired out as a laborer by the age of 5. Harriet did not like to work indoors, and she was routinely beaten by her masters. By her early teens, Harriet was no longer allowed to work indoors and was hired out as a field hand. She was a hard worker but considered defiant and rebellious. When she was 15 years old, Harriet tried to help a runaway slave. The overseer hit her in the head with a lead weight, which put Harriet in a coma. It took months for her to recover, and for the rest of her life, Harriet suffered from blackouts. In 1844, Harriet married a free black man named John Tubman. Harriet remained a slave, but she was able to stay in Tubman\\'s cabin at night. Although she was married, Harriet lived in fear of being shipped to the deep South, a virtual death sentence for any slave. In 1849, her fears were realized when the owner of the Brodas plantation died and many of the slaves were scheduled to be sold. After hearing of her fate, Harriet planned to escape that very night. She knew her husband would expose her, so the only person she informed was her sister. Harriet made the 90 mile trip to the Mason-Dixon line with the help of contacts along the Underground Railroad. She had to hike through swamps and woodland. Harriet\\'s trip was successful, and she settled in Philadelphia. She worked as a dishwasher and made plans to rescue her family. The next year, Harriet traveled back to Maryland and rescued her sister\\'s family. She then returned to transport her brothers to the North. She went back for her husband, but he had remarried and did not want to follow her. In 1857, Harriet finally returned for her parents and settled them in Auburn, New York. By this time, Harriet was becoming quite well known and huge rewards were offered for her capture. Harriet was the master of disguise. A former master did not even recognize her when they ran into each other on the street. She was nicknamed the \"Moses of her people\" for leading them to freedom. In all, Harriet made 19 trips on the Underground Railroad and freed more than 300 slaves. With the arrival of the Civil War, Harriet became a spy for the Union army. She later worked in Washington DC as a government nurse. Although Harriet won admiration from the military, she did not receive a government pension for more than 30 years. At the end of the war, Harriet returned to her parents in Auburn. She was extremely poor and the profits of a book by Sarah Bradford entitled “Scenes in the Life of Harriet Tubman”, published in 1869 were a great financial help. In 1870, Harriet married Nelson Davis, who she had met at a South Carolina army base. They were happily married for 18 years until Davis\\' death. In 1896, Harriet purchased land to build a home for sick and needy blacks. However, she was unable to raise enough money to build the house and ultimately gave the land to the African Methodist Episcopal Zion Church. The church completed the home in 1908, and Harriet moved there several years later. She spent her last years in the home telling stories of her life to visitors. On March 10, 1913, Harriet died of pneumonia. She was 93 years old. Harriet Tubman was not afraid to fight for the rights of African-Americans. Her story is one of dedication and inspiration. During her lifetime Harriet was honored by many people. In 1897, her bravery even inspired Queen Victoria to award her a silver medal. '},\n",
       " {'coname': 'Amadou Diallo Place',\n",
       "  'location': 'Wheeler Avenue, Bronx, NY',\n",
       "  'content': 'Amadou Diallo was born on September 2, 1975 in the village of Sinoe, Liberia, West Africa. He was the first of four children born to Saikou and Kadiatou Diallo. Amadou has one sister, Laouratou, and two brothers, Ibrahima and Abdul Salaam. Because his father, Saikou, was a businessman, Amadou traveled throughout much of his childhood living in Togo, Guinea, the homeland of his parents, Bangkok and Singapore.Amadou grew up with a love of reading, music, dancing and sports. Once in the United States, he became an avid basketball fan, in particular, of Michael Jordan. In fact, Amadou was such a true Michael Jordan fan that he shifted from a Bulls fan to a Knicks fan when Jordan had decided to retire.Amadou had a passion for school and attended some of the finest schools in the world, including The French International School, London\\'s Cambridge University, The British Consulate College in Thailand and the Asian Institute of Microsoft. It was Amadou\\'s dream to one day enroll in school in the United States. At twenty, he decided to come to America to continue his computer education and he wanted to do it on his own. In September of 1996, he decided to come to New York to start a business with his cousin. His father, Saikou, was reluctant at first but later relented after he was reassured by relatives that Amadou would be taken care of. Upon his arrival in New York, he first worked as a delivery man but later became a street peddler selling gloves, socks and video tapes in Manhattan on 14th Street. He worked six days a week, 12 hours a day. However, his dream to pursue his education in America continued. A young man from Senegal who met Amadou in New York fondly recalls the times he and Amadou would sit talking for hours about school. After class, he\\'d stop by Amadou\\'s stand where Amadou would always have a cold bottle of apple juice waiting for him. He\\'d take his usual seat while Amadou would run down his usual questions; \"So tell me, how was school in America today? How do you feel about being in the classroom?\" He\\'d get so excited just listening and, at the end of every conversation, he\\'d say, \"You know, I\\'m really going to go to school here someday.\"A spiritual person, when Amadou was about 18 years old, he began to focus and collect books on his religion, studying the Koran and praying five times a day in the Muslim tradition. When the family came to collect Amadou\\'s belongings after his death, they found solace in what they discovered. Among the many things they found were writings where Amadou had begun to research the prophets. He had written the names of all the prophets along with the dates of their birth. He had highlighted passages in the Koran that spoke about the dialogues between Christians and Muslims. Amadou was on a spiritual journey.Amadou was killed on February 4, 1999, after midnight, by four New York City police officers from the Street Crime Unit. Amadou had come home from work to his apartment at 1157 Wheeler Avenue in the Soundview Section of the Bronx and decided to go back out to get something to eat. Upon his return, he encountered the police officers who ultimately fired a fuselage of 41 shots, 19 of which riddled his body. Amadou died in the vestibule of his apartment building.'},\n",
       " {'coname': 'Steve Mercado Stickball Boulevard',\n",
       "  'location': 'Stickball Boulevard, Bronx, NY',\n",
       "  'content': 'Steve Mercado was born on June 1, 1963 and grew up playing stickball on the streets of The Bronx. He was widely known for his efforts to preserve and promote stickball as a healthy and accessible sport. From a young player on Bronx streets, he became a nationally recognized leader and organizer, establishing leagues in the Bronx, across the City and across the Country, including Miami, San Diego and Puerto Rico. Steve Mercado was a very civically active member of Community Board 9 who volunteered a great deal of his time to The Bronx YMCA as a coach. He also served as the President of the Emperors Stickball League which plays every weekend from March until August on Stickball Boulevard.Steve Mercado became a New York City Firefighter on October 21, 1990 and received a unit citation on October 24, 1996. His commitment to the New York City Fire Department (FDNY) was every bit as intense as his commitment to stickball. Assigned to Engine Company 40 on Manhattan’s West Side, Steve was called to the World Trade Center in answer to the September 11, 2001 terrorist attack. He died on that day along with 342 other members of FDNY. Steve Mercado was thirty-eight years old. He left a widow, Jovianna, and two sons, Sklyer, 6, and Austin, 2.'},\n",
       " {'coname': 'Bobby Bello Field',\n",
       "  'location': '75th Street and Shore Road, Brooklyn, NY',\n",
       "  'content': 'Bobby Bello was born and raised in Bay Ridge. The youngest of nine children, he was born on June 4, 1927 to Tony and Netti Bello. He attended P.S. 105, Pershing Junior High School and graduated from Fort Hamilton High School in 1945. After high school he served in the Air Force for two years. Bobby was a member of the Local #40 Iron Works union for the next forty years. He worked on various projects in the New York City area, among them the Twin Towers and the Verrazano Narrows Bridge. This brought him a sense of great pride and joy, especially when connecting his beloved Bay Ridge with his new home Staten Island.In 1952 at a Father Strype fund raising dance Bob met and later fell in love with Margaret Moakler. Two years later on October 16, 1954 in the upper church of Our Lady of Perpetual Help, Bob and Margie were married by her brother Father Michael Moakler. Together they had five children, Bonnie, Robert, Phillip, Stephen, and Toniann.In 1973, Bob was laid up suffering from a back injury. At that time he encouraged Maggie to go to college. Four years later she graduated with honors from Richmond College. Later, again with his encouragement, she would also acquire her Masters Degree from Saint John’s University. In the year 2000 she retired from Saint Patrick’s School after teaching the second grade for twenty years.Bob’s chosen sport was football. As a little boy on 7th avenue and 59th street, his dream was to be a good football player. He’d often reminiscence about his days at the “Dust Bowl” field. How he took old newspapers, rolled them together tightly, wrapped them with string or rubber bands and call that his football. He would take his “ball” to the Dust Bowl, throw the ball down the field, run back and catch it. Bob would be there for hours learning to “run and catch”. Since Fort Hamilton did not have a football team, Bob played with the local sand lot teams, such as The Hawks, The Imps, and the Bay Ridge Celtics where he was both a player and a coach. One year he played semi-pro football for the Indians. The last game he played was on his endeared Shore Road Football field, he was 38 years old.Bob’s coaching abilities were becoming well known in Bay Ridge. In 1955, Bob, together with the youth officer Ray Rupelli, of the 64th precinct located then on the corner of 86th street and 5th avenue, began the “Police Athletic League” (P.A.L.), which till this day still flourishes under the title of 68th precinct Youth Council. At the time he was also coaching in the Pop Warner Football League. The games were played on their home field at Shore Road and 79th street. Ironically enough, this field at 79th street and Shore Road is now the home field of the Xaverian Clippers Football team which is coached by Dom Laurendi, who was one of Bob’s early ball players. He coached and nurtured thousands of young boys through out those years, and one outstanding young man was the New York Jets John Dockery. Over the years John never forgot his “coach,” Bobby Bello. Later, Bob opened a sporting goods store on 77th street and 5th avenue and many of his “kids”, now mature young men, would stop by to recall the good times they had with the P.A.L. John Dockery was one of these “kids.” Bob was proud to know that his Bay Ridge local boy had won an athletic scholarship to Harvard University. Dockery also won a Superbowl Ring with the Pittsburgh Steelers. Shortly afterwards, Joe Namath and Dockery joined forces and began the “Joe Namath and John Dockery Football Camp”. Bob was one of the first coaches to join the camp. Further more, he was a part of that camp up to the time of his death, some 27 years in all.Bob’s world of coaching took him down many paths and to many fields as he coached New York Police Department Football teams, numerous high school teams such as, Tilden, Monsignor Farrell, and Tottenville High School. In 1992 the New York Finest were the champs in the Policeman’s Benevolent Association Fun City Bowl in Florida, and in 1997, the Tottenville “pirates” were the New York City P.S.A.L. Champions. On both Occasions he received a ring in his name, a dream come true. He was very proud of these rings and “His” boys. With all the devotion and hard work that he gave to his coaching, one would think that coaching was his first love. But this was not the case.Bobby Bello’s first and heartfelt love belonged to his family. His wife Margie, their five children, eight grandchildren, his brothers and sisters, and their children. He felt proud to have coached his sons Robert, Phillip, and Stephen, his nephews Michael, Robert, Joseph, and later his son Joseph the III, and then his grandsons Robert and Sean. This for Bob was a joyful accomplishment. Bobby Bello’s football days started alone on the “Dust Bowl” field, but his accomplishments, his achievements, and his adulation began on the fields of Shore Road. Bobby Bello died on February 16, 1999.Bobby was not only a great football player and coach, but he was an exceptional, outstanding and magnificent man. A man whose name will give honor and due respect to this field.'},\n",
       " {'coname': 'Jonathan Nigro Place',\n",
       "  'location': 'Avenue P and West 2nd Street, Brooklyn, NY',\n",
       "  'content': 'Jonathan Nigro was born on September 8, 1973 at 1677 West 2nd Street in Brooklyn, His parents and grandparents before him had lived at 1677 West 2nd Street, since 1938.Jonathan attended P.S. 177 on West 1st Street and Avenue P, and Mark Twain Junior High School, Lafayette High Sschool and Saint Francis College, attaining his Bachelors of Business Administration. He was in the process of obtaining his Masters in Business Administration when he was stricken with Leukemia, halting his aspirations, his dreams and his life.Jonathan’s days were spent playing on the sidewalks and Streets in and around West 2nd Street. He rode his bicycle, skated, ran, jumped and played ball. He charmed the neighbors from his birth, his smile and warm hello filled their days. Jonathan was also a lifeguard and an all around athlete. During his 8th grade year at Mark Twain JHS, while on a school trip, he saved the life of another swimmer at the Olympic Dude Ranch. He received the Borough President’s Golden Citizen’s Award and won awards at his Graduation from Mark Twain for his Humanity and Citizenship. At Lafayette High School, he was on the Football and Baseball teams. He had many friends, both students and teachers alike.During his years at Saint Francis College, he learned how to ski and became an avid skier. He graduated with a Bachelors of Business Administration, which helped him as an Asset Trader at Fidelity.Jonathan Nigro died of Leukemia on May 3, 2000. He left a legacy of love, loyalty, friendship and good citizenship. He was a loving and loyal son, brother, grandson, nephew, and friend to the young and old. Children adored him, with is playful grin and his daring personality. Almost 4,000 people attended funeral services honoring Jonathan, which was an attestation to the legacy of love and loyalty that he left behind. He will be missed forever.Jonathan was survived by his beloved fiancé, Melissa Murphy, sister, Jennifer and her husband Joseph Cianciotta, parents, Ron and Ella, grandmother Jenny, and his Aunt Faye, Uncle Tony, and cousin Jaclyn, of West 2nd Street, as well, and many other family members and friends. Because of Jonathan’s sickness and the love he generated, almost 1,000 people were registered as Bone Marrow Donors and are presently on the list for Bone Marrow Transplantation. Monies were raised for Leukemia and a Leukemia Fund is in the process of being established at North Shore Hospital, benefiting the Bone Marrow Transplant Room. A scholarship was established in Jonathan’s name at Saint Francis College, which will address Bio-Medical Students entering research in the Medical Research Field.'},\n",
       " {'coname': 'Captain Patrick J. Brown Walk',\n",
       "  'location': 'Captain Patrick J. Brown Walk, Manhattan, NY',\n",
       "  'content': 'Captain Patrick J. Brown, age 48, of Ladder Company 3, was a twenty-three year veteran of the New York City Fire Department (FDNY). He was one of the most decorated members of FDNY, receiving 20 citations for valor during his career. As a firefighter, Captain Brown served in Ladder Company 26 and Rescue Company 1 in Manhattan, and Rescue Company 2 in Brooklyn. After being promoted to Lieutenant in 1987, he served with Battalion 16 and Ladder Company 28 in The Bronx as well as the Special Operations Command. He was promoted to Captain in 1993 and served with Division 1 in Manhattan and Engine Company 69 in The Bronx, before transferring to Ladder 3 in 2000.Captain Brown, a resident of Manhattan and also a highly decorated Marine Corps sergeant who served his country in Viet Nam, was called along with his company to the World Trade Center on the morning of September 11, 2001. When the towers collapsed he was killed trying to rescue people who were trapped inside. Captain Brown was a highly respected and very modest man. He didn’t talk about things often, but you knew from he demeanor that he had seen and had done a lot. He was survived by a brother Michael and a sister Caroline.'},\n",
       " {'coname': 'Father Michael J. McGivney Way',\n",
       "  'location': '86th Street and 14th Avenue, Brooklyn, NY',\n",
       "  'content': 'Father Michael McGivney was born in Waterbury on August 12, 1852. The oldest of thirteen children of Irish immigrants Patrick and Mary (Lynch) McGivney, Michael learned early about sorrow, the harsh grip of poverty, love and faith, and family fortitude. Six of his siblings died in infancy or childhood. At the age of 13 he left school to work in a spoon-making department of a brass factory to provide a few more dollars for family survival. When he reached the age of sixteen, he traveled to Quebec, Canada with his Waterbury pastor and registered at the French-run College of St. Hyacinthe. With the priesthood clearly in mind, he worked hard on subjects that would prepare him to apply for seminary admission. He studied two additional years at Our Lady of Angels Seminary in Niagra Falls, New York. He then moved to Montreal to attend seminary classes at the Jesuit-run St. Mary\\'s College. When his father died in June of 1873, he went home for the funeral concerned for his family\\'s welfare, lingering awhile in Waterbury. Then, at the request of the bishop of Hartford, he entered St. Mary\\'s Seminary in Baltimore, Maryland. On December 22, 1877, he was ordained in Baltimore\\'s historic Cathedral of the Assumption by Archbishop (later Cardinal) James Gibbons. A few days later, he said his first Mass at Immaculate Conception Church in Waterbury. Father McGivney began his priestly ministry on Christmas Day in 1877 as curate at St. Mary\\'s Church in New Haven. It was the city\\'s first parish. A new stone church had been built, after the old one burned, on one of New Haven\\'s finest residential Streets, Hillhouse Avenue. There was neighborhood objection which even the New York Times noted in 1879, under the headline: \"How An Aristocratic Avenue Was Blemished By A Roman Church Edifice.\" So Father McGivney\\'s priestly ministry in New Haven began with tension and defensiveness among the working-class Irish families he served. Father McGivney worked closely with the young people of St. Mary\\'s parish, holding catechism classes and organizing a total abstinence society to fight alcoholism. In 1881 he began to explore with various laymen the idea of a Catholic, fraternal benefit society. In an era when parish clubs and fraternal societies had wide popular appeal, the young priest felt there should be some way to strengthen religious faith and at the same time provide for the financial needs of families overwhelmed by illness or death of the breadwinner. He discussed this concept with Bishop Lawrence McMahon of Hartford, and received his approval. He traveled to Boston to talk with the Massachusetts Catholic Order of Foresters, and traveled to Brooklyn to consult the Catholic Benevolent Legion. He met with other priests of the diocese. Wherever he could, he sought information that would help the Catholic laymen to organize themselves into a benefit society. William Geary, one of the Order\\'s charter members, said that at the first council meeting in 1882, he was \"acclaimed as founder by 24 men with hearts full of joy and thanksgiving, recognizing that without his optimism, his will to succeed, his counsel and advice they would have failed.\" Father McGivney had suggested Sons of Columbus as a name for the Order. This would bind Catholicism and Americanism together through the faith and bold vision of the New World\\'s discoverer. The word \"knights\" replaced \"sons\" because key members of the organizing group who were Irish-born Civil War veterans felt it would help to apply a noble ritual in support of the emerging cause of Catholic civil liberty. In the first public reference to the Order on February 8, 1882, the New Haven Morning Journal and Courier said the Knights of Columbus\\' initial meeting had been held the night before. On March 29, the Connecticut legislature granted a charter to the Knights of Columbus, formally establishing it as a legal corporation. The Order\\'s principles in 1882 were \"Unity\" and \"Charity.\" The concepts of \"Fraternity\" and \"Patriotism\" were added later. Each of these ideals played a major role in ceremonials from the beginning. The Columbus-linked themes, says historian Christopher J. Kauffman, \"reverberated with pride in the American promise of liberty, equality and opportunity.\" In April of 1882, Father McGivney, with the permission of Bishop McMahon, wrote to all the pastors of the Diocese of Hartford. The Order\\'s primary objective, he wrote, was to dissuade Catholics from joining secret societies by providing them better advantages at times of death or sickness. He urged each pastor to exert influence \"in the formation of a Council in your parish.\" Father McGivney personally installed the first officers of San Salvador Council No. 1 in New Haven, in May of 1882. By May 1883, Council No. 2 had been instituted in Meriden, Connecticut and Bishop McMahon, so impressed with the organization, became a member of Council No. 11 in 1884, and served it as council chaplain. By the end of 1885, there were 31 councils in Connecticut. Father McGivney\\'s dedication to the Order was evidenced in trips he made to all parts of Connecticut and in handwritten correspondence—little of which survives—about K of C business. At St. Mary\\'s, despite all this, he remained the energetic curate with constant concern for every parishioner\\'s problems. Then in November of 1884, he was named pastor of St. Thomas Church in Thomaston, Connecticut, a factory town 10 miles from his hometown. It was a factory parish, heavily in debt, serving working-class parishioners with few resources beyond their faith. With prayerful acceptance, Father McGivney put his seven years at St. Mary\\'s behind him. His New Haven parishioners, in a testimonial resolution elaborately superimposed on the drawing of a chalice and host, declared that despite burdens and afflictions, his courtesy, his kindness and the purity of his life had \"secured the love and confidence of the people of St. Mary\\'s, which will follow him in every future field of labor.\" In six subsequent years at St. Thomas, he wrestled with the church debt and built the same close ties of devotion and charitable concern he had developed in New Haven. He continued, as well, to serve as supreme chaplain, personally involved in helping the Order to extend its membership into Rhode Island. Later, from 1901 to 1939, his younger brothers, Msgrs. Patrick and John J. McGivney, served the Order as supreme chaplains. Never robust in health, Father McGivney was suddenly stricken with a serious case of pneumonia in January 1890. It hung on. Various treatments for consumptive illness were tried, but his decline persisted. The young priest lost physical strength just as the Order he founded was moving toward new vitality. On August 14, 1890, Father Michael J. McGivney died at the age of 38. In his 13 brief, busy years as a priest, Father McGivney\\'s piety and compassion had won the love of those he served as curate and pastor. His Christian inspiration, leadership and administrative drive had brought him the loyalty and affection of thousands who knew him as the founder of the Knights of Columbus'},\n",
       " {'coname': 'Bill Thomas Sr. Lane',\n",
       "  'location': '14th Street and Prospect Park West, Brooklyn, NY',\n",
       "  'content': 'William D. Thomas Senior was born on June 8, 1933, on Gold Street in Brooklyn, New York, to David and Helen Thomas. As a young man his family, which consisted of his parents, a sister, Ester and brothers David and Kenneth, moved to 19th Street, between Fifth and Sixth Avenues, in Brooklyn. “Bill” attended Public School 10 graduating in1945. At age 19 he married Angela LaDuca Thomas, on September 26, 1952. The marriage produced two sons, David and William Junior.Bill Thomas’ first job was with Caputo Bakeries on Court Street. He later worked as a route man, salesman and driver for Drakes Cakes Company, Inc. In 1962 Bill and Angela purchased a brownstone home at 459 14th Street. Ten years later, in 1972, he founded the 14th Street Block Association and remained its president for the rest of his life. During this period he became a very active, and a very hands-on, community leader and activist. He was elected to be a Judicial Delegate for the Kings County Democratic Party and, in 1985, was asked to become Chairman of the Board of the 17th Street Block Association, a tenants advocate organization which he helped to found. In February 1990, Mr. Thomas was a founding member of the United Coalition to Save and Preserve the 14th Infantry Regiment Armory Conservancy Inc., an organization that he chaired from 1996 to 1998. Bill also served as Campaign Treasurer for the Honorable Bernard Fuchs’ election to the Supreme Court of the State of New York in 1986 and 1992.In 1996, Bill Thomas, along with his good friend and colleague Alfred P. Raffo and others, fought side by side for the return of “Iron Mike”, a WWI Statue of a 14th Infantry Regiment “Doughboy”, to its traditional pedestal in front of the Armory’s main entrance. Later in 1996, he worked with Department of Transportation (DOT) officers to have a traffic light installed, at the corner of 14th Street and Eighth Avenue to protect local residents. He also worked with DOT, up until his death, to bring about extensive structural repairs for 14th Street. Bill, and others, also worked with the Department of Parks and Recreation to create a parking lot in Prospect Park. The lot would benefit patrons of the Circle Restaurant and the Pavilion Theatre, with parking fees going to local non-profit community organizations. And from 1984, Bill Thomas was  member of the Board of Directors of the Seventh Avenue/Windsor Place Community Association and of Foodcare, Inc. Foodcare, Inc. is a not-for-profit entity, made up of 68 community organizations, who operate soup kitchens, food pantries and other  charitable activities 365 days a year.William D. Thomas, Sr. died on February 16, 2002. He was survived by his wife, Angela, his sister, Ester; and two sons, William Jr. and David.'},\n",
       " {'coname': 'Frank LoCicero Bellerose – Hillside Civic Garden',\n",
       "  'location': 'Frank P. Locicero Triangle, Queens, NY',\n",
       "  'content': 'Frank P. LoCicero was born on February 22nd, 1998 in Manhattan. He graduated from Harran High School where he studied art. He became, at age 17, the youngest person to have a sculpture exhibited in the Metropolitan Museum of Art. After graduating high school he attended a commercial art school and soon began to work as an artist at Norcross Greeting Cards. During World War II, Frank enlisted in the Army where he spent the next five years of his life in Hawaii drawing aerial maps.After leaving the army, he went back to work for Norcross and soon met his wife to be, Marie. They were married on November 9, 1946. Frank and Marie had two sons, Ronnie and Ricky. In 1950, they purchased a home in Bellerose, New York Soon after arriving, Frank became active at St. Gregory the Great Church, joining the Holy Name Society and Nocturnal Adoration Association. He also became a member of the Bellerose Hillside Civic Association. He enjoyed his civic activities and was later voted its president. During his tenure as president, Frank led successful campaigns against undesirable projects that were proposed to be situated at the Creedmore Psychiatric Center such as a prison and a sanitation garage. He also was responsible for editing and distributing a monthly newsletter. In addition to all his civic activities, he became the grandfather of 5 and great-grandfather of 4.Frank passed away on November 5, 1997. After his death the officers and members of the Bellerose - Hillside Civic Association arranged with New York City’s Project GreenStreets to have a triangle located at Hillside Avenue and the Cross Island Parkway replanted. A permanent memorial stone was installed there as a lasting tribute to a man who gave much to help preserve the neighborhood he loved. The Street sign will be located at this triangle.'},\n",
       " {'coname': 'Osvaldo Vega Place',\n",
       "  'location': 'East 106th Street and Third Avenue, Manhattan, NY',\n",
       "  'content': 'Osvaldo Vega was born in Lajas, Puerto Rico on April 29, 1921. He was the eldest of three sons born to Mrs. Lila Rodriguez de Vega and Mr. Emiliano Vega.In 1937, at age 16, Osvaldo arrived in New York, where he continued his education. He graduated from Benjamin Franklin High School, and attended New York University and Georgetown School of Social Science. After he finished his studies, he enlisted in the United States Navy, where he was in the same company as future President John. F. Kennedy. While he was in the service, Osvaldo was chosen by his superior officers to be a member of a Senatorial committee that was sent to Germany to investigate the conditions of Hispanic soldiers.Upon his discharge from the Navy, he met with a group of distinguished athletes concerned about the future of our children. They founded the Puerto Rican Hispanic Sports Council (PRHSC). Mr. Osvaldo Vega was named president – a post he held for 30 years until his death. During those 30 years, Osvaldo Vega was dedicated to working for a better future for our children and the community in general.He organized many programs and successfully celebrated them to the benefit of our children and our community. He also organized sports meets in all fields during the months of July and August, in which children of all national backgrounds participated. It also included the Puerto Rican marathon, held every year, in which up to three thousand runners participate, making it New York’s second largest marathon race.Mr. Vega was also involved in baseball clinics that took place every year at City College, under the aegis of PRHSC. Major League scouts participated in these clinics teaching children good baseball technique. He also coordinated baseball umpires training courses every year at City College, lasting six weeks. These graduating umpires would then serve the little leagues. In addition, he was the inspiration for Latin American Day at Yankee and Shea Stadiums, where every year Latin players in the Major Leagues received deserving recognition.During his lifetime Mr. Vega received awards in recognition of his work from the Institute of Puerto Rican Culture, Federacion Liqa Hispana, Federacion International De Deportes Aficianado, the Toleto Vargas League, the Canalles League, the Roberto Clemente Hall of fame, the United States Little League Federation, the Puertorrigueno /Puerto Rican Parade, Fiesta Folklouca, and Mayor Abraham Beame. Osvaldo Vega died in December 1983.'},\n",
       " {'coname': 'Robert Rodriguez Place',\n",
       "  'location': 'East 120th Stree, Manhattan, NY',\n",
       "  'content': 'Robert Rodriguez was born in East Harlem on August 1, 1951. He was the third of seven children born to Juan and Carmen Rodriguez. Robert attended Public School 72 and Junior High School 13, in East Harlem, before graduating from Alfred E. Smith High School in 1969. After High School, Robert attended Nyack Missionary College. Soon after college, he met and fell in love with Edith Delerme and they were married on June 9, 1974. The marriage produced two sons, Robert Jay, and Jonathan Ray, and one daughter, Tina Rasheen.During the early  70’s Robert served as Manpower Director for the East Harlem Community Corporation. In this capacity he was able to find employment for hundreds of workers. Because he believed that access to jobs determines the quality of our lives, he drew great satisfaction from his role in employee placement. Early on, Robert Rodriguez became very active in the civic life of his community. He was elected to the Board of Community School District #4, in 1973 and again in 1982, serving for a time as its president. During this period he was directly responsible for the initiation of many after school programs for young people at junior high school 45. He was a member of the Advisory Board of Metropolitan Hospital from 1973 until 1977. Robert also served as Chairman of the Community Mental Health Center (1973-1977), as Democratic District Leader of the 68th Assembly District (1973-1977), as a member of Community Planning Board #11 in East Harlem (1973-1976), as a Board Member of the Edwin Gould Services for Children Foundation (1977-1982), as a Board Member of the East Harlem Boy Scouts of America (1977-1986), and as a member of the Hunts Point Lions Club (1976-1883).In 1976, Robert Rodriguez was elected to represent the 8th Councilmanic District of the City of New York. His constituency included the South Bronx, portions of the Upper East Side and East Harlem. At the time of his election, Robert was the youngest person ever elected to the Council. He was elected a second time in 1980 and served until 1982 before leaving to serve as Director of Labor Relations at the New York City Fire Department. In 1978, while still at the Council, Robert founded the East Harlem Multiservice Center (EHMC) on 120th Street between First Avenue and Pleasant Avenue. He was especially proud of this achievement and EHMC remains a cornerstore of the East Harlem community helping thousands of families each year.Robert Rodriguez left the Fire Department in 1984 and was Vice-President of Marketing and Development for Delgado-Huegel Architects for two years before becoming chief of staff for Assemblyman Jose Serrano. He later served as Vice President for Operations and Public Affairs for SCS Business Technical Institute and was a Special Projects Director for the New York State Hispanic Housing and Economic Development Task Force. At the time of his death, Robert Rodriguez was over-seeing affirmative-action and diversity programs at the New York State Department of Civil Service. Robert Died on July 17, 1994. He was survived by his wife Edith; two sons, Robert Jay and Jonathan Ray; one daughter, Tina Rasheen; his parents, Carmen and Juan; five brothers Raul, Rene, Richard, and Juan Jr.; and one sister, Norma.'},\n",
       " {'coname': 'Firefighter Christopher J. Pickford Street',\n",
       "  'location': '122nd Street, Queens, NY',\n",
       "  'content': 'Christopher J. Pickford was born on Father’s Day, June 15, 1969, in, what was then, Booth Memorial Hospital in Flushing. Hew grew up in Kew Gardens in the home in which his parents, Thomas and Linda still reside. He attended Public School 90, Junior High School 226, Forest Hills High School and Queens Borough Community College.Beginning with his early years in grammar school, Chris was awarded honors in creative writing and music. These gifts remained his passion into his adult life. He was an accomplished guitarist and song writer and used these talents in several bands throughout the years. The first band was “Riboflavin and the Vitamin D’s” – a band formed in high school mostly just for fun, but soon gained a cult following throughout Queens for its witty lyrics and ridiculous stage presence. As he matured, his music did as well. He formed the band “10 Degree Lean”, appearing regularly in Manhattan’s East Village. He continued to write poetry and screen plays and began laying down tracks for an  acoustical guitar Cd.Chris worked for the Queens District Attorneys as a paralegal before being hired as a New York City Firefighter in January, 2000. He was assigned to Ladder Company 136 in Queens and was  on a rotation to Engine Company 201 in Brooklyn. On September 1, 2001 Engine Company 201 was called to the World Trade Center in response to the terrorists attacks. Chris was killed along with 342 other firefighters as he helped to evacuate people who were trapped in the towers. '}]"
      ]
     },
     "execution_count": 139,
     "metadata": {},
     "output_type": "execute_result"
    }
   ],
   "source": [
    "i = 0\n",
    "json_2001_1 = []\n",
    "\n",
    "for x in story:\n",
    "    entry = {\n",
    "        \"coname\":namejson[i]['coname'],\n",
    "        \"location\": mergeLoc(namejson[i]['borough'],namejson[i]['loc']),\n",
    "        \"content\":x\n",
    "    }\n",
    "    json_2001_1.append(entry)\n",
    "    i += 1\n",
    "\n",
    "json_2001_1"
   ]
  },
  {
   "cell_type": "code",
   "execution_count": 142,
   "metadata": {},
   "outputs": [
    {
     "name": "stdout",
     "output_type": "stream",
     "text": [
      "Frederick Douglass Boulevard and West 122nd Street, Manhattan, NY\n",
      "St. Nicholas Avenue and West 141st Street, Manhattan, NY\n",
      "Wheeler Avenue, Bronx, NY\n",
      "Stickball Boulevard, Bronx, NY\n",
      "75th Street and Shore Road, Brooklyn, NY\n",
      "Avenue P and West 2nd Street, Brooklyn, NY\n",
      "Captain Patrick J. Brown Walk, Manhattan, NY\n",
      "86th Street and 14th Avenue, Brooklyn, NY\n",
      "14th Street and Prospect Park West, Brooklyn, NY\n",
      "Frank P. Locicero Triangle, Queens, NY\n",
      "East 106th Street and Third Avenue, Manhattan, NY\n",
      "East 120th Stree, Manhattan, NY\n",
      "122nd Street, Queens, NY\n"
     ]
    }
   ],
   "source": [
    "for loc in json_2001_1:\n",
    "    print(loc[\"location\"])"
   ]
  },
  {
   "cell_type": "markdown",
   "metadata": {},
   "source": [
    "## GEO Coding"
   ]
  },
  {
   "cell_type": "code",
   "execution_count": 78,
   "metadata": {},
   "outputs": [],
   "source": [
    "import os\n",
    "from dotenv import load_dotenv\n",
    "\n",
    "from geopy.geocoders import GoogleV3\n",
    "from geopy.geocoders import Nominatim"
   ]
  },
  {
   "cell_type": "code",
   "execution_count": 79,
   "metadata": {},
   "outputs": [],
   "source": [
    "load_dotenv()\n",
    "MYAPI = os.getenv('MYAPI')\n",
    "# base_url= \"https://maps.googleapis.com/maps/api/geocode/json?\"\n",
    "\n",
    "geolocator = GoogleV3(api_key=MYAPI)"
   ]
  },
  {
   "cell_type": "code",
   "execution_count": 80,
   "metadata": {},
   "outputs": [
    {
     "name": "stdout",
     "output_type": "stream",
     "text": [
      "40 48m 38.6924s N, 73 54m 22.2527s W\n",
      "-------------\n",
      "1\n",
      "-------------\n",
      "40 39m 45.5774s N, 73 53m 50.5288s W\n",
      "-------------\n",
      "2\n",
      "-------------\n",
      "40 43m 15.7181s N, 73 59m 29.3388s W\n",
      "-------------\n",
      "3\n",
      "-------------\n",
      "40 43m 14.7767s N, 73 59m 26.2993s W\n",
      "-------------\n",
      "4\n",
      "-------------\n",
      "40 49m 6.7422s N, 73 56m 15.7427s W\n",
      "-------------\n",
      "5\n",
      "-------------\n",
      "40 48m 48.7764s N, 73 57m 4.75632s W\n",
      "-------------\n",
      "6\n",
      "-------------\n",
      "40 44m 59.4532s N, 73 53m 0.159s W\n",
      "-------------\n",
      "7\n",
      "-------------\n",
      "40 45m 6.09372s N, 73 53m 8.20896s W\n",
      "-------------\n",
      "8\n",
      "-------------\n",
      "40 39m 27.581s N, 73 57m 11.601s W\n",
      "-------------\n",
      "9\n",
      "-------------\n",
      "40 44m 38.5116s N, 73 51m 31.2516s W\n",
      "-------------\n",
      "10\n",
      "-------------\n",
      "40 44m 43.0001s N, 73 51m 21.4362s W\n",
      "-------------\n",
      "11\n",
      "-------------\n",
      "40 36m 56.1193s N, 73 56m 7.30428s W\n",
      "-------------\n",
      "12\n",
      "-------------\n",
      "40 37m 4.1304s N, 74 0m 23.1624s W\n",
      "-------------\n",
      "13\n",
      "-------------\n",
      "40 39m 33.5135s N, 73 59m 56.7924s W\n",
      "-------------\n",
      "14\n",
      "-------------\n",
      "40 40m 28.6392s N, 73 59m 50.6904s W\n",
      "-------------\n",
      "15\n",
      "-------------\n",
      "40 38m 16.7773s N, 74 1m 16.7952s W\n",
      "-------------\n",
      "16\n",
      "-------------\n",
      "40 37m 36.903s N, 73 58m 59.5304s W\n",
      "-------------\n",
      "17\n",
      "-------------\n",
      "40 47m 33.6149s N, 73 49m 2.93484s W\n",
      "-------------\n",
      "18\n",
      "-------------\n",
      "40 46m 8.8788s N, 73 49m 2.45532s W\n",
      "-------------\n",
      "19\n",
      "-------------\n",
      "40 35m 24.5764s N, 74 9m 33.1027s W\n",
      "-------------\n",
      "20\n",
      "-------------\n",
      "40 46m 42.4128s N, 73 58m 41.9268s W\n",
      "-------------\n",
      "21\n",
      "-------------\n",
      "40 49m 15.2692s N, 73 57m 19.5728s W\n",
      "-------------\n",
      "22\n",
      "-------------\n",
      "40 45m 41.9782s N, 73 49m 37.6936s W\n",
      "-------------\n",
      "23\n",
      "-------------\n",
      "40 51m 55.4317s N, 73 52m 13.4411s W\n",
      "-------------\n",
      "24\n",
      "-------------\n",
      "40 43m 6.18744s N, 73 50m 26.0354s W\n",
      "-------------\n",
      "25\n",
      "-------------\n",
      "40 40m 40.3252s N, 73 59m 53.0387s W\n",
      "-------------\n",
      "26\n",
      "-------------\n",
      "40 40m 15.1658s N, 73 58m 19.1755s W\n",
      "-------------\n",
      "27\n",
      "-------------\n",
      "40 40m 52.4741s N, 73 58m 49.9051s W\n",
      "-------------\n",
      "28\n",
      "-------------\n",
      "40 43m 20.5187s N, 73 56m 41.6796s W\n",
      "-------------\n",
      "29\n",
      "-------------\n",
      "40 48m 29.7727s N, 73 55m 7.7322s W\n",
      "-------------\n",
      "30\n",
      "-------------\n",
      "40 47m 43.5998s N, 73 56m 38.2423s W\n",
      "-------------\n",
      "31\n",
      "-------------\n",
      "40 47m 54.6108s N, 73 58m 1.632s W\n",
      "-------------\n",
      "32\n",
      "-------------\n",
      "40 47m 30.755s N, 73 56m 8.18088s W\n",
      "-------------\n",
      "33\n",
      "-------------\n",
      "40 47m 49.6151s N, 73 56m 55.2372s W\n",
      "-------------\n",
      "34\n",
      "-------------\n",
      "40 48m 8.61732s N, 73 56m 12.3612s W\n",
      "-------------\n",
      "35\n",
      "-------------\n",
      "40 43m 34.3153s N, 73 59m 21.9977s W\n",
      "-------------\n",
      "36\n",
      "-------------\n",
      "40 34m 36.1517s N, 73 57m 57.587s W\n",
      "-------------\n",
      "37\n",
      "-------------\n",
      "40 36m 34.3357s N, 73 57m 23.3993s W\n",
      "-------------\n",
      "38\n",
      "-------------\n",
      "40 35m 53.272s N, 74 7m 31.6502s W\n",
      "-------------\n",
      "39\n",
      "-------------\n",
      "40 34m 33.668s N, 74 7m 2.42292s W\n",
      "-------------\n",
      "40\n",
      "-------------\n",
      "40 35m 58.7976s N, 74 4m 14.8584s W\n",
      "-------------\n",
      "41\n",
      "-------------\n",
      "40 36m 0.4824s N, 73 59m 27.1104s W\n",
      "-------------\n",
      "42\n",
      "-------------\n",
      "40 37m 36.372s N, 73 59m 36.7548s W\n",
      "-------------\n",
      "43\n",
      "-------------\n",
      "40 50m 21.2197s N, 73 56m 28.4435s W\n",
      "-------------\n",
      "44\n",
      "-------------\n",
      "40 37m 8.5638s N, 74 8m 12.2456s W\n",
      "-------------\n",
      "45\n",
      "-------------\n",
      "40 37m 43.7264s N, 74 6m 40.0396s W\n",
      "-------------\n",
      "46\n",
      "-------------\n",
      "40 34m 54.0232s N, 73 50m 32.7228s W\n",
      "-------------\n",
      "47\n",
      "-------------\n",
      "40 34m 45.9419s N, 73 51m 3.56688s W\n",
      "-------------\n",
      "48\n",
      "-------------\n",
      "40 46m 8.61204s N, 73 55m 42.4744s W\n",
      "-------------\n",
      "49\n",
      "-------------\n",
      "40 44m 22.6961s N, 73 55m 20.1212s W\n",
      "-------------\n",
      "50\n",
      "-------------\n",
      "40 40m 30.1613s N, 73 55m 49.9447s W\n",
      "-------------\n",
      "51\n",
      "-------------\n",
      "40 40m 46.9333s N, 73 56m 4.39944s W\n",
      "-------------\n",
      "52\n",
      "-------------\n",
      "40 41m 7.60236s N, 73 47m 35.6953s W\n",
      "-------------\n",
      "53\n",
      "-------------\n",
      "40 41m 18.9024s N, 73 48m 16.092s W\n",
      "-------------\n",
      "54\n",
      "-------------\n",
      "40 36m 13.9604s N, 74 7m 50.2705s W\n",
      "-------------\n",
      "55\n",
      "-------------\n",
      "40 46m 29.5648s N, 73 54m 32.0476s W\n",
      "-------------\n",
      "56\n",
      "-------------\n"
     ]
    }
   ],
   "source": [
    "# Google Map API\n",
    "j = 0\n",
    "geo = []\n",
    "\n",
    "for loc in json_2011_0:\n",
    "    code = geolocator.geocode(loc[\"location\"]).point\n",
    "    print(code)\n",
    "    geo.append(code)\n",
    "    j += 1\n",
    "    print('-------------')\n",
    "    print(j)\n",
    "    print('-------------')"
   ]
  },
  {
   "cell_type": "code",
   "execution_count": 167,
   "metadata": {},
   "outputs": [
    {
     "data": {
      "text/plain": [
       "56"
      ]
     },
     "execution_count": 167,
     "metadata": {},
     "output_type": "execute_result"
    }
   ],
   "source": [
    "len(cluster_2011)"
   ]
  },
  {
   "cell_type": "code",
   "execution_count": 172,
   "metadata": {},
   "outputs": [
    {
     "data": {
      "text/plain": [
       "{'id': '20114',\n",
       " 'coname': 'Jack Johnson Plaza',\n",
       " 'location': 'Lenox Avenue and 142nd Street, Manhattan, NY',\n",
       " 'reason': 'Jack Johnson was an American boxer, the second African-American boxing champion and the first African-American world heavyweight boxing champion. He was inducted into the Ring Boxing Hall of Fame in 1954 and the International Boxing Hall of Fame in 1990. He was also known for being the first celebrity athlete appearing regularly in the press, radio, and movies. He was also a connoisseur of Harlem night life and opened his own club called Club Deluxe at 142nd Street and Lenox Avenue.  In 1910, Congress passed the Act of June 25, 1910 known as the “White Slave Traffic Act or the Mann Act” which outlawed the transportation of women in interstate or foreign commerce for the purpose of prostitution or debauchery or for any other immoral purpose.',\n",
       " 'lat': 40.8185395,\n",
       " 'long': -73.9377063,\n",
       " 'year': '2011',\n",
       " 'group': 1}"
      ]
     },
     "execution_count": 172,
     "metadata": {},
     "output_type": "execute_result"
    }
   ],
   "source": [
    "# 2011\n",
    "i = 0\n",
    "\n",
    "json_2011_geo = []\n",
    "\n",
    "for loc in json_2011_0:\n",
    "    \n",
    "    entry = {\n",
    "        \"id\":'2011'+str(i),\n",
    "        \"coname\": loc['coname'],\n",
    "        \"location\": loc['location'],\n",
    "        \"reason\": reason[i],\n",
    "        \"lat\": geo[i].latitude,\n",
    "        \"long\": geo[i].longitude,\n",
    "        \"year\":'2011',\n",
    "        \"group\":int(cluster_2011[i])\n",
    "            }\n",
    "    i +=1\n",
    "    json_2011_geo.append(entry)\n",
    "\n",
    "json_2011_geo[4]"
   ]
  },
  {
   "cell_type": "code",
   "execution_count": 173,
   "metadata": {},
   "outputs": [],
   "source": [
    "import pickle\n",
    "\n",
    "outfile = open('2011_geo.pkl','wb')\n",
    "pickle.dump(json_2011_geo,outfile)\n",
    "\n",
    "outfile.close()"
   ]
  },
  {
   "cell_type": "code",
   "execution_count": 81,
   "metadata": {},
   "outputs": [],
   "source": [
    "# i = 0\n",
    "# # 2002 2\n",
    "# json_2002_2_geo = []\n",
    "\n",
    "# for loc in json_2002_0:\n",
    "    \n",
    "#     entry = {\n",
    "#         \"coname\": loc['coname'],\n",
    "#         \"location\": loc['location'],\n",
    "#         \"content\": loc['content'],\n",
    "#         \"lat\": geo[i].latitude,\n",
    "#         \"long\": geo[i].longitude\n",
    "#             }\n",
    "#     i +=1\n",
    "#     json_2002_2_geo.append(entry)\n",
    "\n",
    "# json_2002_2_geo"
   ]
  },
  {
   "cell_type": "code",
   "execution_count": 225,
   "metadata": {},
   "outputs": [
    {
     "data": {
      "text/plain": [
       "94"
      ]
     },
     "execution_count": 225,
     "metadata": {},
     "output_type": "execute_result"
    }
   ],
   "source": [
    "len(json_2002_1_geo)"
   ]
  },
  {
   "cell_type": "code",
   "execution_count": 227,
   "metadata": {},
   "outputs": [],
   "source": [
    "import pickle\n",
    "\n",
    "outfile = open('2002_geo.pkl','wb')\n",
    "pickle.dump(json_2002_1_geo,outfile)\n",
    "\n",
    "outfile.close()\n"
   ]
  },
  {
   "cell_type": "code",
   "execution_count": 228,
   "metadata": {},
   "outputs": [],
   "source": [
    "import pickle\n",
    "\n",
    "outfile = open('2002_2_geo.pkl','wb')\n",
    "pickle.dump(json_2002_2_geo,outfile)\n",
    "\n",
    "outfile.close()"
   ]
  },
  {
   "cell_type": "code",
   "execution_count": 229,
   "metadata": {},
   "outputs": [],
   "source": [
    "## including 2021\n",
    "\n",
    "file = open('2021_geocode.pkl','rb')\n",
    "\n",
    "coname_2021 = pickle.load(file)\n",
    "loc_2021 = pickle.load(file)\n",
    "geo_2021 = pickle.load(file)\n",
    "\n",
    "file.close()"
   ]
  },
  {
   "cell_type": "code",
   "execution_count": 233,
   "metadata": {},
   "outputs": [],
   "source": [
    "file = open('2021_reason.pkl','rb')\n",
    "\n",
    "reason_2021 = pickle.load(file)\n",
    "\n",
    "file.close()"
   ]
  },
  {
   "cell_type": "code",
   "execution_count": null,
   "metadata": {},
   "outputs": [],
   "source": [
    "# merge 2002 - 2021 data"
   ]
  },
  {
   "cell_type": "code",
   "execution_count": 336,
   "metadata": {},
   "outputs": [],
   "source": [
    "mydata = []"
   ]
  },
  {
   "cell_type": "code",
   "execution_count": 337,
   "metadata": {},
   "outputs": [],
   "source": [
    "#all 2002\n",
    "i = 0\n",
    "for e in json_2002_1_geo:\n",
    "    \n",
    "    entry = {\n",
    "        \"id\":'2002'+str(i),\n",
    "        \"coname\": e['coname'],\n",
    "        \"location\": e['location'],\n",
    "        \"reason\": e['content'],\n",
    "        \"lat\": e['lat'],\n",
    "        \"long\": e['long'],\n",
    "        \"year\": '2002'\n",
    "            }\n",
    "    i +=1\n",
    "    \n",
    "    mydata.append(entry)"
   ]
  },
  {
   "cell_type": "code",
   "execution_count": 338,
   "metadata": {},
   "outputs": [],
   "source": [
    "## modify 2021 location\n",
    "def addSpace(e):\n",
    "    a = e.split(',')[0].strip()\n",
    "    b = e.split(',')[1].strip()\n",
    "    c = a + ', '+b+', NY'\n",
    "    return c"
   ]
  },
  {
   "cell_type": "code",
   "execution_count": 339,
   "metadata": {},
   "outputs": [
    {
     "data": {
      "text/plain": [
       "'Arthur Kill Road and Industrial Loop West, Staten Island, NY'"
      ]
     },
     "execution_count": 339,
     "metadata": {},
     "output_type": "execute_result"
    }
   ],
   "source": [
    "addSpace(loc_2021[10])"
   ]
  },
  {
   "cell_type": "code",
   "execution_count": 340,
   "metadata": {},
   "outputs": [],
   "source": [
    "#2021 ---> last version wrongly used 2020\n",
    "\n",
    "for e in range(len(coname_2021)):\n",
    "    \n",
    "    entry = {\n",
    "        \"id\":'2021'+ str(e),\n",
    "        \"coname\": coname_2021[e],\n",
    "        \"location\": addSpace(loc_2021[e]),\n",
    "        \"reason\": reason_2021[e],\n",
    "        \"lat\": geo_2021[e].latitude,\n",
    "        \"long\": geo_2021[e].longitude,\n",
    "        \"year\": '2021'\n",
    "            }\n",
    "    \n",
    "    mydata.append(entry)"
   ]
  },
  {
   "cell_type": "code",
   "execution_count": 341,
   "metadata": {},
   "outputs": [
    {
     "data": {
      "text/plain": [
       "{'id': '200250',\n",
       " 'coname': 'Frank Thomas “F.T.” Aquilino Way',\n",
       " 'location': 'Shepard Avenue, Staten Island, NY',\n",
       " 'reason': '911 heroes',\n",
       " 'lat': 40.5950543,\n",
       " 'long': -74.15782150000001,\n",
       " 'year': '2002'}"
      ]
     },
     "execution_count": 341,
     "metadata": {},
     "output_type": "execute_result"
    }
   ],
   "source": [
    "mydata[50]"
   ]
  },
  {
   "cell_type": "markdown",
   "metadata": {},
   "source": [
    "## clustering"
   ]
  },
  {
   "cell_type": "code",
   "execution_count": 79,
   "metadata": {},
   "outputs": [
    {
     "data": {
      "text/plain": [
       "92"
      ]
     },
     "execution_count": 79,
     "metadata": {},
     "output_type": "execute_result"
    }
   ],
   "source": [
    "# 2021 clustering analysis begin\n",
    "data = [x['reason'] for x in mydata if x['year'] == '2021']\n",
    "len(data)"
   ]
  },
  {
   "cell_type": "code",
   "execution_count": 118,
   "metadata": {},
   "outputs": [
    {
     "data": {
      "text/plain": [
       "'Peter N. Catello was the owner of Catello Electrical Contracting for almost 50 years, and worked for six months as an electrician at the Fresh Kills Recovery site, working day and night to maintain the electrical and lights for the recovery operation. He will be included on the wall at the 9/11 Responders Remembered Park. He later sent several of his crews out to affected areas after Hurricane Sandy to help people restore power. He died of 9/11 related illness.'"
      ]
     },
     "execution_count": 118,
     "metadata": {},
     "output_type": "execute_result"
    }
   ],
   "source": [
    "data[10]"
   ]
  },
  {
   "cell_type": "code",
   "execution_count": 80,
   "metadata": {},
   "outputs": [],
   "source": [
    "# ## 2011 clustering analysis begin\n",
    "# data = [x['reason'] for x in json_2011_geo if x['year'] == '2011']\n",
    "# len(data)"
   ]
  },
  {
   "cell_type": "code",
   "execution_count": 117,
   "metadata": {},
   "outputs": [
    {
     "data": {
      "application/vnd.jupyter.widget-view+json": {
       "model_id": "23c367e733bc4028a66c1f9ce9aa5506",
       "version_major": 2,
       "version_minor": 0
      },
      "text/plain": [
       "HBox(children=(FloatProgress(value=0.0, description='Batches', max=3.0, style=ProgressStyle(description_width=…"
      ]
     },
     "metadata": {},
     "output_type": "display_data"
    },
    {
     "name": "stdout",
     "output_type": "stream",
     "text": [
      "\n"
     ]
    }
   ],
   "source": [
    "import torch\n",
    "from sentence_transformers import SentenceTransformer\n",
    "\n",
    "model = SentenceTransformer('bert-base-nli-mean-tokens')\n",
    "\n",
    "embeddings = model.encode(data, show_progress_bar=True)"
   ]
  },
  {
   "cell_type": "code",
   "execution_count": 119,
   "metadata": {},
   "outputs": [],
   "source": [
    "import umap\n",
    "umap_embeddings = umap.UMAP(n_neighbors=4, \n",
    "                            n_components=2, \n",
    "                            min_dist=0.1,\n",
    "                            metric='cosine').fit_transform(embeddings)"
   ]
  },
  {
   "cell_type": "code",
   "execution_count": 123,
   "metadata": {},
   "outputs": [],
   "source": [
    "import hdbscan\n",
    "cluster = hdbscan.HDBSCAN(min_cluster_size=5,\n",
    "                          metric='euclidean',                      \n",
    "                          cluster_selection_method='eom').fit(umap_embeddings)"
   ]
  },
  {
   "cell_type": "code",
   "execution_count": 124,
   "metadata": {},
   "outputs": [
    {
     "data": {
      "text/plain": [
       "array([ 3,  2,  3,  2,  2,  3,  0,  0,  1,  2,  0,  2,  1,  2,  1,  1, -1,\n",
       "        2, -1,  1,  2,  2, -1,  1, -1,  3,  1,  1, -1,  2,  1,  2,  1, -1,\n",
       "        2,  2,  0,  3, -1,  2,  0, -1,  0,  3, -1,  2, -1,  3,  2,  1,  1,\n",
       "        1, -1,  2,  1,  1,  2,  2,  3,  2, -1,  2,  1,  2,  2,  1,  2,  2,\n",
       "        1,  2,  3,  3, -1,  1, -1, -1, -1, -1, -1,  2,  2,  1,  1,  3,  1,\n",
       "       -1,  0,  2,  2,  2,  2,  2])"
      ]
     },
     "execution_count": 124,
     "metadata": {},
     "output_type": "execute_result"
    }
   ],
   "source": [
    "cluster.labels_"
   ]
  },
  {
   "cell_type": "code",
   "execution_count": 125,
   "metadata": {},
   "outputs": [
    {
     "data": {
      "text/plain": [
       "<matplotlib.colorbar.Colorbar at 0x7fa114ca5a50>"
      ]
     },
     "execution_count": 125,
     "metadata": {},
     "output_type": "execute_result"
    },
    {
     "data": {
      "image/png": "[encoded data removed]",
      "text/plain": [
       "<Figure size 1440x720 with 2 Axes>"
      ]
     },
     "metadata": {
      "needs_background": "light"
     },
     "output_type": "display_data"
    }
   ],
   "source": [
    "import pandas as pd \n",
    "import matplotlib.pyplot as plt\n",
    "\n",
    "# Prepare data\n",
    "umap_data = umap.UMAP(n_neighbors=4, n_components=2, min_dist=0.1, metric='cosine').fit_transform(embeddings)\n",
    "result = pd.DataFrame(umap_data, columns=['x', 'y'])\n",
    "result['labels'] = cluster.labels_\n",
    "\n",
    "# Visualize clusters\n",
    "fig, ax = plt.subplots(figsize=(20, 10))\n",
    "outliers = result.loc[result.labels == -1, :]\n",
    "clustered = result.loc[result.labels != -1, :]\n",
    "plt.scatter(outliers.x, outliers.y, color='#BDBDBD', s=8)\n",
    "plt.scatter(clustered.x, clustered.y, c=clustered.labels, s=8, cmap='hsv_r')\n",
    "plt.colorbar()"
   ]
  },
  {
   "cell_type": "code",
   "execution_count": 126,
   "metadata": {},
   "outputs": [],
   "source": [
    "docs_df = pd.DataFrame(data, columns=[\"Doc\"])\n",
    "docs_df['Topic'] = cluster.labels_\n",
    "docs_df['Doc_ID'] = range(len(docs_df))\n",
    "docs_per_topic = docs_df.groupby(['Topic'], as_index = False).agg({'Doc': ' '.join})"
   ]
  },
  {
   "cell_type": "code",
   "execution_count": 127,
   "metadata": {},
   "outputs": [],
   "source": [
    "import numpy as np\n",
    "from sklearn.feature_extraction.text import CountVectorizer\n",
    "\n",
    "def c_tf_idf(documents, m, ngram_range=(1, 1)):\n",
    "    count = CountVectorizer(ngram_range=ngram_range, stop_words=\"english\").fit(documents)\n",
    "    t = count.transform(documents).toarray()\n",
    "    w = t.sum(axis=1)\n",
    "    tf = np.divide(t.T, w)\n",
    "    sum_t = t.sum(axis=0)\n",
    "    idf = np.log(np.divide(m, sum_t)).reshape(-1, 1)\n",
    "    tf_idf = np.multiply(tf, idf)\n",
    "\n",
    "    return tf_idf, count\n",
    "  \n",
    "tf_idf, count = c_tf_idf(docs_per_topic.Doc.values, m=len(data))"
   ]
  },
  {
   "cell_type": "code",
   "execution_count": 128,
   "metadata": {},
   "outputs": [
    {
     "data": {
      "text/html": [
       "<div>\n",
       "<style scoped>\n",
       "    .dataframe tbody tr th:only-of-type {\n",
       "        vertical-align: middle;\n",
       "    }\n",
       "\n",
       "    .dataframe tbody tr th {\n",
       "        vertical-align: top;\n",
       "    }\n",
       "\n",
       "    .dataframe thead th {\n",
       "        text-align: right;\n",
       "    }\n",
       "</style>\n",
       "<table border=\"1\" class=\"dataframe\">\n",
       "  <thead>\n",
       "    <tr style=\"text-align: right;\">\n",
       "      <th></th>\n",
       "      <th>Topic</th>\n",
       "      <th>Size</th>\n",
       "    </tr>\n",
       "  </thead>\n",
       "  <tbody>\n",
       "    <tr>\n",
       "      <th>3</th>\n",
       "      <td>2</td>\n",
       "      <td>33</td>\n",
       "    </tr>\n",
       "    <tr>\n",
       "      <th>2</th>\n",
       "      <td>1</td>\n",
       "      <td>22</td>\n",
       "    </tr>\n",
       "    <tr>\n",
       "      <th>0</th>\n",
       "      <td>-1</td>\n",
       "      <td>19</td>\n",
       "    </tr>\n",
       "    <tr>\n",
       "      <th>4</th>\n",
       "      <td>3</td>\n",
       "      <td>11</td>\n",
       "    </tr>\n",
       "    <tr>\n",
       "      <th>1</th>\n",
       "      <td>0</td>\n",
       "      <td>7</td>\n",
       "    </tr>\n",
       "  </tbody>\n",
       "</table>\n",
       "</div>"
      ],
      "text/plain": [
       "   Topic  Size\n",
       "3      2    33\n",
       "2      1    22\n",
       "0     -1    19\n",
       "4      3    11\n",
       "1      0     7"
      ]
     },
     "execution_count": 128,
     "metadata": {},
     "output_type": "execute_result"
    }
   ],
   "source": [
    "def extract_top_n_words_per_topic(tf_idf, count, docs_per_topic, n=20):\n",
    "    words = count.get_feature_names()\n",
    "    labels = list(docs_per_topic.Topic)\n",
    "    tf_idf_transposed = tf_idf.T\n",
    "    indices = tf_idf_transposed.argsort()[:, -n:]\n",
    "    top_n_words = {label: [(words[j], tf_idf_transposed[i][j]) for j in indices[i]][::-1] for i, label in enumerate(labels)}\n",
    "    return top_n_words\n",
    "\n",
    "def extract_topic_sizes(df):\n",
    "    topic_sizes = (df.groupby(['Topic'])\n",
    "                     .Doc\n",
    "                     .count()\n",
    "                     .reset_index()\n",
    "                     .rename({\"Topic\": \"Topic\", \"Doc\": \"Size\"}, axis='columns')\n",
    "                     .sort_values(\"Size\", ascending=False))\n",
    "    return topic_sizes\n",
    "\n",
    "top_n_words = extract_top_n_words_per_topic(tf_idf, count, docs_per_topic, n=20)\n",
    "topic_sizes = extract_topic_sizes(docs_df); topic_sizes.head(10)"
   ]
  },
  {
   "cell_type": "code",
   "execution_count": 129,
   "metadata": {},
   "outputs": [],
   "source": [
    "from wordcloud import WordCloud\n",
    "\n",
    "def draw_word_cloud(num):\n",
    "    \n",
    "    aa = pd.DataFrame(top_n_words[num], columns=['word', 'freq'])\n",
    "    aa.index = aa.word\n",
    "    bb = aa.drop(columns=['word'])\n",
    "    bb['freq'].astype(float)\n",
    "\n",
    "    wordcloud = WordCloud(width=800, height=400).generate_from_frequencies(bb['freq'])\n",
    "    plt.imshow(wordcloud)\n",
    "    plt.savefig('img'+str(num)+'.png')"
   ]
  },
  {
   "cell_type": "code",
   "execution_count": 137,
   "metadata": {},
   "outputs": [
    {
     "data": {
      "image/png": "[encoded data removed]",
      "text/plain": [
       "<Figure size 432x288 with 1 Axes>"
      ]
     },
     "metadata": {
      "needs_background": "light"
     },
     "output_type": "display_data"
    }
   ],
   "source": [
    "draw_word_cloud(2)"
   ]
  },
  {
   "cell_type": "code",
   "execution_count": 138,
   "metadata": {},
   "outputs": [
    {
     "data": {
      "image/png": "[encoded data removed]",
      "text/plain": [
       "<Figure size 432x288 with 1 Axes>"
      ]
     },
     "metadata": {
      "needs_background": "light"
     },
     "output_type": "display_data"
    }
   ],
   "source": [
    "draw_word_cloud(1)"
   ]
  },
  {
   "cell_type": "code",
   "execution_count": 132,
   "metadata": {},
   "outputs": [
    {
     "data": {
      "image/png": "[encoded data removed]",
      "text/plain": [
       "<Figure size 432x288 with 1 Axes>"
      ]
     },
     "metadata": {
      "needs_background": "light"
     },
     "output_type": "display_data"
    }
   ],
   "source": [
    "draw_word_cloud(0)"
   ]
  },
  {
   "cell_type": "code",
   "execution_count": 134,
   "metadata": {},
   "outputs": [
    {
     "data": {
      "image/png": "[encoded data removed]",
      "text/plain": [
       "<Figure size 432x288 with 1 Axes>"
      ]
     },
     "metadata": {
      "needs_background": "light"
     },
     "output_type": "display_data"
    }
   ],
   "source": [
    "draw_word_cloud(3)"
   ]
  },
  {
   "cell_type": "code",
   "execution_count": 135,
   "metadata": {},
   "outputs": [
    {
     "data": {
      "image/png": "[encoded data removed]",
      "text/plain": [
       "<Figure size 432x288 with 1 Axes>"
      ]
     },
     "metadata": {
      "needs_background": "light"
     },
     "output_type": "display_data"
    }
   ],
   "source": [
    "draw_word_cloud(-1)"
   ]
  },
  {
   "cell_type": "code",
   "execution_count": 165,
   "metadata": {},
   "outputs": [
    {
     "data": {
      "text/plain": [
       "array([0, 1, 1, 2, 1, 2, 2, 2, 2, 2, 0, 0, 2, 2, 0, 2, 2, 2, 0, 2, 2, 2,\n",
       "       2, 2, 1, 2, 0, 2, 2, 0, 1, 2, 1, 2, 0, 2, 2, 2, 2, 2, 2, 2, 2, 2,\n",
       "       2, 1, 2, 2, 2, 1, 1, 2, 1, 2, 2, 2])"
      ]
     },
     "execution_count": 165,
     "metadata": {},
     "output_type": "execute_result"
    }
   ],
   "source": [
    "## 2011： 4 neighbor, 2 component, 0.1, 3 min_clusters\n",
    "cluster_2011 = cluster.labels_\n",
    "cluster_2011"
   ]
  },
  {
   "cell_type": "code",
   "execution_count": 299,
   "metadata": {},
   "outputs": [
    {
     "data": {
      "text/plain": [
       "array([ 0,  1,  0,  1,  1,  0,  2,  2, -1,  1,  2, -1,  3,  1,  3,  2,  2,\n",
       "       -1, -1,  3,  1, -1,  1,  3,  1,  0,  3, -1, -1, -1,  3, -1,  3,  2,\n",
       "        1,  1,  2,  0,  3, -1,  2, -1,  2,  0, -1,  1, -1,  0, -1,  3, -1,\n",
       "        3, -1,  1,  3,  3,  1,  1,  0,  1, -1,  1,  3,  1, -1,  3, -1,  1,\n",
       "        3,  1,  0,  0, -1, -1,  1, -1, -1, -1,  1,  1,  1,  3,  3,  0,  3,\n",
       "        1,  2, -1, -1,  1, -1, -1])"
      ]
     },
     "execution_count": 299,
     "metadata": {},
     "output_type": "execute_result"
    }
   ],
   "source": [
    "## 3 components, min_5\n",
    "cluster_1 = cluster.labels_\n",
    "cluster_1"
   ]
  },
  {
   "cell_type": "code",
   "execution_count": 329,
   "metadata": {},
   "outputs": [
    {
     "data": {
      "text/plain": [
       "array([ 1,  2,  1,  2,  2,  1,  0,  0,  3,  2,  0,  2,  3,  2,  3,  0, -1,\n",
       "        2, -1,  3,  2, -1, -1,  3,  2,  1,  3,  3, -1,  2,  3,  2,  3,  3,\n",
       "        2,  2,  0,  1, -1,  2,  0, -1,  0,  1,  2,  2, -1,  1, -1,  3,  3,\n",
       "        3,  2,  2,  3,  3,  2,  2,  1,  2,  2,  2,  3,  2,  2,  3,  2,  2,\n",
       "        3,  2,  1,  1, -1,  3, -1, -1, -1, -1,  2,  2,  2,  3,  3,  1,  3,\n",
       "       -1,  0,  1,  2,  2,  2, -1])"
      ]
     },
     "execution_count": 329,
     "metadata": {},
     "output_type": "execute_result"
    }
   ],
   "source": [
    "## 2021： 2 components, min_4, 0.1\n",
    "cluster_2 = cluster.labels_\n",
    "cluster_2"
   ]
  },
  {
   "cell_type": "code",
   "execution_count": 62,
   "metadata": {},
   "outputs": [
    {
     "data": {
      "text/plain": [
       "array([ 2,  3,  2,  3,  3,  2,  0,  0,  1,  3,  0,  1,  1,  3,  1,  0, -1,\n",
       "        3,  0,  1,  3, -1, -1,  1,  3,  2,  1,  1, -1,  3,  1,  3,  1,  1,\n",
       "        3,  3,  0,  2,  1,  3,  0, -1,  0,  2,  3,  3,  3,  2, -1,  1,  1,\n",
       "        1,  3,  3,  1,  1,  3,  3,  2,  3,  3,  3,  1,  3,  3,  1,  3,  3,\n",
       "        1,  3,  2,  2, -1,  1,  3,  3, -1, -1,  3, -1,  3,  1,  1,  2,  1,\n",
       "        3,  0,  2,  3,  3, -1,  2])"
      ]
     },
     "execution_count": 62,
     "metadata": {},
     "output_type": "execute_result"
    }
   ],
   "source": [
    "## 2021：4 2 components, 0.0， 5\n",
    "cluster_3 = cluster.labels_\n",
    "cluster_3"
   ]
  },
  {
   "cell_type": "code",
   "execution_count": 139,
   "metadata": {},
   "outputs": [
    {
     "data": {
      "text/plain": [
       "array([ 3,  2,  3,  2,  2,  3,  0,  0,  1,  2,  0,  2,  1,  2,  1,  1, -1,\n",
       "        2, -1,  1,  2,  2, -1,  1, -1,  3,  1,  1, -1,  2,  1,  2,  1, -1,\n",
       "        2,  2,  0,  3, -1,  2,  0, -1,  0,  3, -1,  2, -1,  3,  2,  1,  1,\n",
       "        1, -1,  2,  1,  1,  2,  2,  3,  2, -1,  2,  1,  2,  2,  1,  2,  2,\n",
       "        1,  2,  3,  3, -1,  1, -1, -1, -1, -1, -1,  2,  2,  1,  1,  3,  1,\n",
       "       -1,  0,  2,  2,  2,  2,  2])"
      ]
     },
     "execution_count": 139,
     "metadata": {},
     "output_type": "execute_result"
    }
   ],
   "source": [
    "## 2021：4 2 components, 0.1， 5\n",
    "cluster_4 = cluster.labels_\n",
    "cluster_4"
   ]
  },
  {
   "cell_type": "code",
   "execution_count": 51,
   "metadata": {},
   "outputs": [
    {
     "data": {
      "text/plain": [
       "array([ 2,  3,  2,  3,  3,  2,  0,  0,  1,  3,  0,  1,  1,  3,  1,  0, -1,\n",
       "        3,  0,  1,  3, -1, -1,  1,  3,  2,  1,  1, -1,  3,  1,  3,  1,  1,\n",
       "        3,  3,  0,  2,  1,  3,  0, -1,  0,  2,  3,  3,  3,  2, -1,  1,  1,\n",
       "        1,  3,  3,  1,  1,  3,  3,  2,  3,  3,  3,  1,  3,  3,  1,  3,  3,\n",
       "        1,  3,  2,  2, -1,  1,  3,  3, -1, -1,  3, -1,  3,  1,  1,  2,  1,\n",
       "        3,  0,  2,  3,  3, -1,  2])"
      ]
     },
     "execution_count": 51,
     "metadata": {},
     "output_type": "execute_result"
    }
   ],
   "source": [
    "cluster.labels_"
   ]
  },
  {
   "cell_type": "code",
   "execution_count": 140,
   "metadata": {},
   "outputs": [],
   "source": [
    "i = 0\n",
    "# add cluster result\n",
    "\n",
    "for x in mydata:\n",
    "    if x['year'] == '2021':\n",
    "        x['group'] = int(cluster_4[i])\n",
    "        i += 1"
   ]
  },
  {
   "cell_type": "code",
   "execution_count": 347,
   "metadata": {},
   "outputs": [],
   "source": [
    "# for x in mydata:\n",
    "#     if x['year'] == '2002':\n",
    "#         if x['reason'] == '911 heroes':\n",
    "#             x['group'] = 4\n",
    "#         else:\n",
    "#             x['group'] = 5"
   ]
  },
  {
   "cell_type": "code",
   "execution_count": 142,
   "metadata": {},
   "outputs": [
    {
     "data": {
      "text/plain": [
       "{'id': '20216',\n",
       " 'coname': 'Police Officer Randolph Holder Way',\n",
       " 'location': 'East 120th Street and the FDR Drive, Manhattan, NY',\n",
       " 'reason': 'Randolph Holder served with the NYPD for five years and was assigned to Police Service Area 5. He was killed in the line of duty',\n",
       " 'lat': 40.79771830000001,\n",
       " 'long': -73.9321015,\n",
       " 'year': '2021',\n",
       " 'group': 0}"
      ]
     },
     "execution_count": 142,
     "metadata": {},
     "output_type": "execute_result"
    }
   ],
   "source": [
    "mydata[100]"
   ]
  },
  {
   "cell_type": "code",
   "execution_count": 349,
   "metadata": {},
   "outputs": [],
   "source": [
    "# import json\n",
    "\n",
    "# # y = json.dumps(dictlist)\n",
    "\n",
    "# outfile = open(\"mydata.json\", \"w\")\n",
    "  \n",
    "# json.dump(mydata, outfile, indent = 2)\n",
    "  \n",
    "# outfile.close()"
   ]
  },
  {
   "cell_type": "code",
   "execution_count": 174,
   "metadata": {},
   "outputs": [],
   "source": [
    "# import json\n",
    "\n",
    "\n",
    "# outfile = open(\"mydata_2011.json\", \"w\")\n",
    "  \n",
    "# json.dump(json_2011_geo, outfile, indent = 2)\n",
    "  \n",
    "# outfile.close()"
   ]
  },
  {
   "cell_type": "code",
   "execution_count": 1,
   "metadata": {},
   "outputs": [
    {
     "data": {
      "text/plain": [
       "{'id': '20216',\n",
       " 'coname': 'Police Officer Randolph Holder Way',\n",
       " 'location': 'East 120th Street and the FDR Drive, Manhattan, NY',\n",
       " 'reason': 'Randolph Holder served with the NYPD for five years and was assigned to Police Service Area 5. He was killed in the line of duty',\n",
       " 'lat': 40.79771830000001,\n",
       " 'long': -73.9321015,\n",
       " 'year': '2021',\n",
       " 'group': 0}"
      ]
     },
     "execution_count": 1,
     "metadata": {},
     "output_type": "execute_result"
    }
   ],
   "source": [
    "## modify groups \n",
    "import json\n",
    "with open('mydata.json') as f:\n",
    "    mydata = json.load(f)\n",
    "\n",
    "mydata[100]"
   ]
  },
  {
   "cell_type": "code",
   "execution_count": 143,
   "metadata": {},
   "outputs": [],
   "source": [
    "# i = 0\n",
    "# for x in mydata:\n",
    "#     if x['year']=='2021':\n",
    "#         x['group'] = int(cluster_3[i])\n",
    "#         i += 1\n",
    "#         print(x['group'])"
   ]
  },
  {
   "cell_type": "code",
   "execution_count": 144,
   "metadata": {},
   "outputs": [
    {
     "data": {
      "text/plain": [
       "{'id': '201135',\n",
       " 'coname': 'Ellen Stewart Way',\n",
       " 'location': 'East 4th Street and 2nd Avenue, Manhattan, NY',\n",
       " 'reason': 'Ellen Stewart was the first African-American fashion designer for Saks Fifth Avenue and founder and artistic director of La MaMa Experimental Theatre Club at 74A East 4th Street.  She moved to New York City in the late 1940’s and later, with an appreciation for the arts, founded the La MaMa Experimental Theatre Club which has presented over 1900 productions.  Its resident theatre troupes have performed throughout the world including Columbia, Venezuela, Iran, Belgium England, Sweden, Korea and Turkey among others.  New Eastern European Theatre was introduced in America in 1967 when Ms. Stewart brought Jerzy Grotowski, Ryszard Cieslak and Ludwig Flaszen to America.  She was awarded many honorary doctorates and awards such as the MacArthur Genius Award and the National Endowment for Arts and Culture, the Les Kurbas Award for Distinguished Services to Art and Culture from the Ukraine, was inducted into the Broadway Theatre Hall of Fame, becoming the first OFF-Off-Broadway Producer to receive this honor and was awarded the Order of the Sacred Treasure, Gold Rays with Rosette by the Emperor of Japan.',\n",
       " 'lat': 40.7261987,\n",
       " 'long': -73.9894438,\n",
       " 'year': '2011',\n",
       " 'group': 8}"
      ]
     },
     "execution_count": 144,
     "metadata": {},
     "output_type": "execute_result"
    }
   ],
   "source": [
    "mydata[221]"
   ]
  },
  {
   "cell_type": "code",
   "execution_count": 145,
   "metadata": {},
   "outputs": [],
   "source": [
    "\n",
    "\n",
    "outfile = open(\"mydata.json\", \"w\")\n",
    "  \n",
    "json.dump(mydata, outfile, indent = 2)\n",
    "  \n",
    "outfile.close()"
   ]
  },
  {
   "cell_type": "code",
   "execution_count": null,
   "metadata": {},
   "outputs": [],
   "source": []
  }
 ],
 "metadata": {
  "kernelspec": {
   "display_name": "Python 3",
   "language": "python",
   "name": "python3"
  },
  "language_info": {
   "codemirror_mode": {
    "name": "ipython",
    "version": 3
   },
   "file_extension": ".py",
   "mimetype": "text/x-python",
   "name": "python",
   "nbconvert_exporter": "python",
   "pygments_lexer": "ipython3",
   "version": "3.7.6"
  }
 },
 "nbformat": 4,
 "nbformat_minor": 4
}
