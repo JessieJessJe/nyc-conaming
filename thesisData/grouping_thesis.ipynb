{
 "cells": [
  {
   "cell_type": "code",
   "execution_count": 1,
   "metadata": {},
   "outputs": [],
   "source": [
    "import json"
   ]
  },
  {
   "cell_type": "code",
   "execution_count": 2,
   "metadata": {},
   "outputs": [],
   "source": [
    "def count_each_group(keys, reason):\n",
    "    count = 0\n",
    "    for key in keys:\n",
    "        n = reason.lower().count(key.lower())\n",
    "        if n>0:\n",
    "            count += n;\n",
    "    return count"
   ]
  },
  {
   "cell_type": "code",
   "execution_count": 111,
   "metadata": {},
   "outputs": [],
   "source": [
    "def count_result(groupKeys, reason):\n",
    "    count = 0;\n",
    "    newG = 0;\n",
    "\n",
    "    for idx, group in enumerate(groupKeys):\n",
    "    \n",
    "        c = count_each_group(group, reason)\n",
    "        \n",
    "        if c > 0 and idx == 8:\n",
    "            return int(8)\n",
    "        elif c > count and idx > 0:\n",
    "            count = c;\n",
    "            newG = idx\n",
    "    return int(newG)"
   ]
  },
  {
   "cell_type": "code",
   "execution_count": 16,
   "metadata": {},
   "outputs": [],
   "source": [
    "def get_keyword_list(keys, reason):\n",
    "    li=[];\n",
    "\n",
    "        \n",
    "    for key in keys:\n",
    "        if key.lower() in reason.lower():\n",
    "            li.append(key)\n",
    "    \n",
    "    if len(li) == 0:\n",
    "        li.append(keys[0])\n",
    "        \n",
    "    return li"
   ]
  },
  {
   "cell_type": "code",
   "execution_count": 66,
   "metadata": {},
   "outputs": [],
   "source": [
    "[84, 317, 494, 748, 204, 24, 133, 10, 0, 0]\n",
    "\n",
    "new_groupList = [\n",
    "    [''],\n",
    "    ['music', 'jazz', 'band', 'album', 'latin', 'singer', 'art', 'arts' ,'culture', 'cultural', 'musicians', 'cuba'],\n",
    "    ['tuskegee','Airmen', 'squadron', 'fighter', 'aircraft', '1943', 'pilot', 'world war II', 'Iraq', 'korean',\n",
    "     'war', 'army', 'infantry', 'killed', 'combat', 'medal', 'bronze', 'duty', 'nypd', 'police'],\n",
    "    ['women', 'Ms', 'education', 'children', 'worked', 'council', 'board', 'school','committee'],\n",
    "    ['customers', 'family', 'business', 'immigrants', 'immigration', 'community'],\n",
    "    [\"baptist\", 'church', 'pastor', 'reverend', 'bishop','ministry', 'churches', 'bible', 'god', 'congregation'],\n",
    "    ['health', 'public', \"civic\",'nq', 'UHP', 'primary care', 'gay', 'development', 'activists', 'hospitals', 'HIV', 'AIDS', 'HIV/AIDS', \"COVID-19\"],\n",
    "    ['section', 'law', 'amend', 'map', 'rename', 'accordingly', 'called', 'repeals', 'corresponds', '2004'],\n",
    "]"
   ]
  },
  {
   "cell_type": "code",
   "execution_count": null,
   "metadata": {},
   "outputs": [],
   "source": []
  },
  {
   "cell_type": "code",
   "execution_count": 62,
   "metadata": {},
   "outputs": [],
   "source": [
    "# Opening JSON file\n",
    "f = open('data_except_911.json')\n",
    " \n",
    "# returns JSON object as\n",
    "# a dictionary\n",
    "data_else = json.load(f)"
   ]
  },
  {
   "cell_type": "code",
   "execution_count": 67,
   "metadata": {},
   "outputs": [],
   "source": [
    "data_else_group = data_else;\n",
    "\n",
    "for obj in data_else_group:\n",
    "    \n",
    "    idx = count_result(new_groupList, obj[\"reason\"] )\n",
    "    \n",
    "    li = get_keyword_list( new_groupList[idx] , obj[\"reason\"] )\n",
    "    \n",
    "    obj[\"group\"] = idx;\n",
    "    obj[\"keywords\"] = li;\n"
   ]
  },
  {
   "cell_type": "code",
   "execution_count": 68,
   "metadata": {},
   "outputs": [],
   "source": [
    "count = [0,0 , 0,0 , 0,0 , 0, 0, 0,0]\n",
    "\n",
    "for d in data_else_group:\n",
    "    count[d[\"group\"]] += 1;"
   ]
  },
  {
   "cell_type": "code",
   "execution_count": 69,
   "metadata": {},
   "outputs": [
    {
     "data": {
      "text/plain": [
       "[50, 346, 511, 634, 229, 139, 58, 47, 0, 0]"
      ]
     },
     "execution_count": 69,
     "metadata": {},
     "output_type": "execute_result"
    }
   ],
   "source": [
    "count"
   ]
  },
  {
   "cell_type": "code",
   "execution_count": 70,
   "metadata": {},
   "outputs": [],
   "source": [
    "with open(\"data_else_regroup.json\", \"w\") as outfile:\n",
    "    json.dump(data_else_group, outfile)"
   ]
  },
  {
   "cell_type": "markdown",
   "metadata": {},
   "source": [
    "# Import 911"
   ]
  },
  {
   "cell_type": "code",
   "execution_count": 96,
   "metadata": {},
   "outputs": [
    {
     "ename": "FileNotFoundError",
     "evalue": "[Errno 2] No such file or directory: 'data_911_update.json'",
     "output_type": "error",
     "traceback": [
      "\u001b[0;31m---------------------------------------------------------------------------\u001b[0m",
      "\u001b[0;31mFileNotFoundError\u001b[0m                         Traceback (most recent call last)",
      "\u001b[0;32m<ipython-input-96-d16e6d9fe0ee>\u001b[0m in \u001b[0;36m<module>\u001b[0;34m\u001b[0m\n\u001b[1;32m      1\u001b[0m \u001b[0;31m# Opening JSON file\u001b[0m\u001b[0;34m\u001b[0m\u001b[0;34m\u001b[0m\u001b[0;34m\u001b[0m\u001b[0m\n\u001b[0;32m----> 2\u001b[0;31m \u001b[0mf\u001b[0m \u001b[0;34m=\u001b[0m \u001b[0mopen\u001b[0m\u001b[0;34m(\u001b[0m\u001b[0;34m'data_911_update.json'\u001b[0m\u001b[0;34m)\u001b[0m\u001b[0;34m\u001b[0m\u001b[0;34m\u001b[0m\u001b[0m\n\u001b[0m\u001b[1;32m      3\u001b[0m \u001b[0;34m\u001b[0m\u001b[0m\n\u001b[1;32m      4\u001b[0m \u001b[0;31m# returns JSON object as\u001b[0m\u001b[0;34m\u001b[0m\u001b[0;34m\u001b[0m\u001b[0;34m\u001b[0m\u001b[0m\n\u001b[1;32m      5\u001b[0m \u001b[0;31m# a dictionary\u001b[0m\u001b[0;34m\u001b[0m\u001b[0;34m\u001b[0m\u001b[0;34m\u001b[0m\u001b[0m\n",
      "\u001b[0;31mFileNotFoundError\u001b[0m: [Errno 2] No such file or directory: 'data_911_update.json'"
     ]
    }
   ],
   "source": [
    "# Opening JSON file\n",
    "f = open('data_911_update.json')\n",
    " \n",
    "# returns JSON object as\n",
    "# a dictionary\n",
    "data_911_update = json.load(f)"
   ]
  },
  {
   "cell_type": "code",
   "execution_count": 73,
   "metadata": {},
   "outputs": [],
   "source": [
    "for d in data_911_update:\n",
    "    d[\"group\"] = 8;\n",
    "    d[\"keywords\"] = [\"9/11\"]"
   ]
  },
  {
   "cell_type": "markdown",
   "metadata": {},
   "source": [
    "# Merge"
   ]
  },
  {
   "cell_type": "code",
   "execution_count": 74,
   "metadata": {},
   "outputs": [],
   "source": [
    "data_refine = data_911_update + data_else_group"
   ]
  },
  {
   "cell_type": "code",
   "execution_count": 75,
   "metadata": {},
   "outputs": [],
   "source": [
    "for d in data_refine:\n",
    "    d[\"group\"] = d[\"group\"] - 1;"
   ]
  },
  {
   "cell_type": "code",
   "execution_count": 76,
   "metadata": {},
   "outputs": [
    {
     "name": "stdout",
     "output_type": "stream",
     "text": [
      "[346, 511, 634, 229, 139, 58, 47, 497, 0, 50]\n"
     ]
    }
   ],
   "source": [
    "count = [0,0 , 0,0 , 0,0 , 0, 0, 0,0]\n",
    "\n",
    "for d in data_refine:\n",
    "    count[d[\"group\"]] += 1;\n",
    "\n",
    "print(count)"
   ]
  },
  {
   "cell_type": "code",
   "execution_count": 77,
   "metadata": {},
   "outputs": [],
   "source": [
    "with open(\"data_refine.json\", \"w\") as outfile:\n",
    "    json.dump(data_refine, outfile)"
   ]
  },
  {
   "cell_type": "markdown",
   "metadata": {},
   "source": [
    "# Merge Group"
   ]
  },
  {
   "cell_type": "code",
   "execution_count": 106,
   "metadata": {},
   "outputs": [],
   "source": [
    "# Opening JSON file\n",
    "f = open('mydata_manual.json')\n",
    " \n",
    "# returns JSON object as\n",
    "# a dictionary\n",
    "data = json.load(f)"
   ]
  },
  {
   "cell_type": "code",
   "execution_count": 108,
   "metadata": {},
   "outputs": [],
   "source": [
    "new_groupList = [\n",
    "    [''],\n",
    "    ['music', 'jazz', 'band', 'album', 'latin', 'singer', 'art', 'arts' ,'culture', 'cultural', 'musicians', 'cuba'],\n",
    "    ['tuskegee','Airmen', 'squadron', 'fighter', 'aircraft', '1943', 'pilot', 'world war II', 'Iraq', 'korean',\n",
    "     'war', 'army', 'infantry', 'killed', 'combat', 'medal', 'bronze'],\n",
    "    ['women', 'Ms', 'education', 'children', 'equality', 'school'],\n",
    "    ['customers', 'family', 'business', 'immigrants', 'immigration', 'community'],\n",
    "    [\"baptist\", 'church', 'pastor', 'reverend', 'bishop','ministry', 'churches', 'bible', 'god', 'congregation'],\n",
    "    ['health', 'public', \"civic\",'nq', 'UHP', 'primary', 'care', 'gay', 'development', 'activists', 'hospitals', 'HIV', 'AIDS', 'HIV/AIDS', \"COVID-19\"],\n",
    "    ['board', 'committee', 'law', 'amend','duty', 'nypd', 'police'],\n",
    "    ['COVID-19', 'pandemic'],\n",
    "    ['World Trade Center', 'terrorist attack']\n",
    "]"
   ]
  },
  {
   "cell_type": "code",
   "execution_count": 109,
   "metadata": {},
   "outputs": [],
   "source": [
    "new_groupList_for_Keywords = [\n",
    "    [''],\n",
    "    ['music', 'jazz', 'band', 'album', 'latin', 'singer', 'art', 'arts' ,'culture', 'musicians', 'cuba'],\n",
    "    ['tuskegee','Airmen', 'squadron', 'fighter', 'aircraft', '1943', 'pilot', 'world war II', 'Iraq', 'korean',\n",
    "     'war', 'army', 'infantry', 'combat', 'medal', 'bronze'],\n",
    "    ['women', 'Ms', 'education', 'children', 'equality', 'school'],\n",
    "    ['customers', 'family', 'business', 'immigrants', 'immigration', 'community'],\n",
    "    [\"baptist\", 'church', 'pastor', 'reverend', 'bishop','ministry', 'churches', 'bible', 'god', 'congregation'],\n",
    "    ['health', 'public', \"civic\", 'UHP', 'primary care', 'gay', 'development', 'activists', 'hospitals', 'HIV', 'AIDS', 'HIV/AIDS', \"COVID-19\"],\n",
    "    ['killed','duty', 'nypd', 'police'],\n",
    "    ['COVID-19'],\n",
    "    ['9/11']\n",
    "]"
   ]
  },
  {
   "cell_type": "code",
   "execution_count": 112,
   "metadata": {},
   "outputs": [],
   "source": [
    "data_2 = data;\n",
    "\n",
    "for obj in data_2:\n",
    "    \n",
    "#     911 filter out\n",
    "    if obj[\"group\"] == 7 or \"9/11\" in obj[\"coname\"]:\n",
    "        obj[\"group\"] = 9;\n",
    "        obj[\"keywords\"] = [\"9/11\"]\n",
    "    else:\n",
    "        \n",
    "        idx = count_result(new_groupList, obj[\"reason\"] )\n",
    "\n",
    "        li = get_keyword_list( new_groupList_for_Keywords[idx] , obj[\"reason\"] )\n",
    "\n",
    "        obj[\"group\"] = idx;\n",
    "        obj[\"keywords\"] = li;\n"
   ]
  },
  {
   "cell_type": "code",
   "execution_count": 113,
   "metadata": {},
   "outputs": [
    {
     "name": "stdout",
     "output_type": "stream",
     "text": [
      "[70, 395, 403, 366, 301, 151, 105, 178, 30, 512]\n"
     ]
    }
   ],
   "source": [
    "count = [0,0 , 0,0 , 0,0 , 0, 0, 0,0]\n",
    "\n",
    "for d in data_2:\n",
    "    count[d[\"group\"]] += 1;\n",
    "\n",
    "print(count)"
   ]
  },
  {
   "cell_type": "code",
   "execution_count": 114,
   "metadata": {},
   "outputs": [],
   "source": [
    "for d in data_2:\n",
    "    d[\"group\"] = d[\"group\"] - 1;"
   ]
  },
  {
   "cell_type": "code",
   "execution_count": 115,
   "metadata": {},
   "outputs": [],
   "source": [
    "with open(\"data_2.json\", \"w\") as outfile:\n",
    "    json.dump(data_2, outfile)"
   ]
  },
  {
   "cell_type": "code",
   "execution_count": null,
   "metadata": {},
   "outputs": [],
   "source": []
  }
 ],
 "metadata": {
  "kernelspec": {
   "display_name": "Python 3",
   "language": "python",
   "name": "python3"
  },
  "language_info": {
   "codemirror_mode": {
    "name": "ipython",
    "version": 3
   },
   "file_extension": ".py",
   "mimetype": "text/x-python",
   "name": "python",
   "nbconvert_exporter": "python",
   "pygments_lexer": "ipython3",
   "version": "3.7.6"
  }
 },
 "nbformat": 4,
 "nbformat_minor": 4
}
